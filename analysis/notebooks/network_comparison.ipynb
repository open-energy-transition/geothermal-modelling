{
 "cells": [
  {
   "cell_type": "code",
   "execution_count": 1,
   "id": "c96e79c3-1eca-4381-aacf-a59e7d0a2e4f",
   "metadata": {},
   "outputs": [
    {
     "name": "stderr",
     "output_type": "stream",
     "text": [
      "/opt/anaconda3/envs/pypsa-earth/lib/python3.10/site-packages/pypsa/networkclustering.py:23: UserWarning: The namespace `pypsa.networkclustering` is deprecated and will be removed in PyPSA v0.24. Please use `pypsa.clustering.spatial instead`. \n",
      "  warnings.warn(\n"
     ]
    }
   ],
   "source": [
    "import pandas as pd\n",
    "import pathlib\n",
    "import geopandas as gpd\n",
    "import matplotlib.pyplot as plt\n",
    "import pypsa\n",
    "import numpy as np\n",
    "import seaborn as sbn\n",
    "import cartopy.crs as ccrs\n",
    "pd.options.display.max_columns = None\n",
    "pd.options.display.max_rows = None"
   ]
  },
  {
   "cell_type": "markdown",
   "id": "db4a9173-b85b-4432-bbde-e048f686b3ca",
   "metadata": {},
   "source": [
    "# Load the input data"
   ]
  },
  {
   "cell_type": "code",
   "execution_count": 2,
   "id": "0e8f6b7b-7beb-4214-9cc5-c2b0706c40d0",
   "metadata": {},
   "outputs": [
    {
     "name": "stderr",
     "output_type": "stream",
     "text": [
      "/opt/anaconda3/envs/pypsa-earth/lib/python3.10/site-packages/pypsa/components.py:318: FutureWarning: Setting an item of incompatible dtype is deprecated and will raise an error in a future version of pandas. Value '[]' has dtype incompatible with float64, please explicitly cast to a compatible dtype first.\n",
      "  attrs.loc[bool_b, \"default\"] = attrs.loc[bool_b].isin({True, \"True\"})\n",
      "/opt/anaconda3/envs/pypsa-earth/lib/python3.10/site-packages/pypsa/components.py:318: FutureWarning: Setting an item of incompatible dtype is deprecated and will raise an error in a future version of pandas. Value '[]' has dtype incompatible with float64, please explicitly cast to a compatible dtype first.\n",
      "  attrs.loc[bool_b, \"default\"] = attrs.loc[bool_b].isin({True, \"True\"})\n",
      "/opt/anaconda3/envs/pypsa-earth/lib/python3.10/site-packages/pypsa/components.py:318: FutureWarning: Setting an item of incompatible dtype is deprecated and will raise an error in a future version of pandas. Value '[]' has dtype incompatible with float64, please explicitly cast to a compatible dtype first.\n",
      "  attrs.loc[bool_b, \"default\"] = attrs.loc[bool_b].isin({True, \"True\"})\n",
      "/opt/anaconda3/envs/pypsa-earth/lib/python3.10/site-packages/pypsa/components.py:318: FutureWarning: Setting an item of incompatible dtype is deprecated and will raise an error in a future version of pandas. Value '[]' has dtype incompatible with float64, please explicitly cast to a compatible dtype first.\n",
      "  attrs.loc[bool_b, \"default\"] = attrs.loc[bool_b].isin({True, \"True\"})\n",
      "INFO:pypsa.io:Imported network base.nc has buses, lines, links, transformers\n",
      "/opt/anaconda3/envs/pypsa-earth/lib/python3.10/site-packages/pypsa/components.py:318: FutureWarning: Setting an item of incompatible dtype is deprecated and will raise an error in a future version of pandas. Value '[]' has dtype incompatible with float64, please explicitly cast to a compatible dtype first.\n",
      "  attrs.loc[bool_b, \"default\"] = attrs.loc[bool_b].isin({True, \"True\"})\n",
      "/opt/anaconda3/envs/pypsa-earth/lib/python3.10/site-packages/pypsa/components.py:318: FutureWarning: Setting an item of incompatible dtype is deprecated and will raise an error in a future version of pandas. Value '[]' has dtype incompatible with float64, please explicitly cast to a compatible dtype first.\n",
      "  attrs.loc[bool_b, \"default\"] = attrs.loc[bool_b].isin({True, \"True\"})\n",
      "/opt/anaconda3/envs/pypsa-earth/lib/python3.10/site-packages/pypsa/components.py:318: FutureWarning: Setting an item of incompatible dtype is deprecated and will raise an error in a future version of pandas. Value '[]' has dtype incompatible with float64, please explicitly cast to a compatible dtype first.\n",
      "  attrs.loc[bool_b, \"default\"] = attrs.loc[bool_b].isin({True, \"True\"})\n",
      "/opt/anaconda3/envs/pypsa-earth/lib/python3.10/site-packages/pypsa/components.py:318: FutureWarning: Setting an item of incompatible dtype is deprecated and will raise an error in a future version of pandas. Value '[]' has dtype incompatible with float64, please explicitly cast to a compatible dtype first.\n",
      "  attrs.loc[bool_b, \"default\"] = attrs.loc[bool_b].isin({True, \"True\"})\n",
      "INFO:pypsa.io:Imported network elec_base_network.nc has buses, lines, line_types, links, transformers\n"
     ]
    }
   ],
   "source": [
    "base_path = pathlib.Path(\"/Users/fabriziofinozzi/Desktop/OpenEnergyTransition/repo/\")\n",
    "base_network_pypsa_earth = pypsa.Network(pathlib.Path(base_path, \"geothermal-modelling/workflow/pypsa-earth/networks/US_2021/base.nc\"))\n",
    "base_network_pypsa_usa = pypsa.Network(pathlib.Path(base_path, \"pypsa-usa/workflow/resources/Default/usa/elec_base_network.nc\"))\n",
    "eia_base_network = gpd.read_file(pathlib.Path(base_path, \"geothermal-modelling/analysis/data/US_Electric_Power_Transmission_Lines_5037807202786552385.geojson\"))"
   ]
  },
  {
   "cell_type": "code",
   "execution_count": 3,
   "id": "97a22ac3-2c1e-495c-99c0-2cb7e52cb777",
   "metadata": {},
   "outputs": [
    {
     "data": {
      "text/html": [
       "<div>\n",
       "<style scoped>\n",
       "    .dataframe tbody tr th:only-of-type {\n",
       "        vertical-align: middle;\n",
       "    }\n",
       "\n",
       "    .dataframe tbody tr th {\n",
       "        vertical-align: top;\n",
       "    }\n",
       "\n",
       "    .dataframe thead th {\n",
       "        text-align: right;\n",
       "    }\n",
       "</style>\n",
       "<table border=\"1\" class=\"dataframe\">\n",
       "  <thead>\n",
       "    <tr style=\"text-align: right;\">\n",
       "      <th></th>\n",
       "      <th>OBJECTID_1</th>\n",
       "      <th>OBJECTID</th>\n",
       "      <th>ID</th>\n",
       "      <th>TYPE</th>\n",
       "      <th>STATUS</th>\n",
       "      <th>NAICS_CODE</th>\n",
       "      <th>NAICS_DESC</th>\n",
       "      <th>SOURCE</th>\n",
       "      <th>SOURCEDATE</th>\n",
       "      <th>VAL_METHOD</th>\n",
       "      <th>VAL_DATE</th>\n",
       "      <th>OWNER</th>\n",
       "      <th>VOLTAGE</th>\n",
       "      <th>VOLT_CLASS</th>\n",
       "      <th>INFERRED</th>\n",
       "      <th>SUB_1</th>\n",
       "      <th>SUB_2</th>\n",
       "      <th>SHAPE__Len</th>\n",
       "      <th>GlobalID</th>\n",
       "      <th>geometry</th>\n",
       "    </tr>\n",
       "  </thead>\n",
       "  <tbody>\n",
       "    <tr>\n",
       "      <th>0</th>\n",
       "      <td>1</td>\n",
       "      <td>1</td>\n",
       "      <td>100511</td>\n",
       "      <td>AC; Overhead</td>\n",
       "      <td>In Service</td>\n",
       "      <td>221121</td>\n",
       "      <td>Electric Bulk Power Transmission and Control</td>\n",
       "      <td>Imagery, EIA 861, EIA 860</td>\n",
       "      <td>Tue, 08 Nov 2016 00:00:00 GMT</td>\n",
       "      <td>Imagery</td>\n",
       "      <td>Mon, 27 Mar 2017 00:00:00 GMT</td>\n",
       "      <td>Not Available</td>\n",
       "      <td>115.0</td>\n",
       "      <td>100-161</td>\n",
       "      <td>Yes</td>\n",
       "      <td>Waters River</td>\n",
       "      <td>Tap136228</td>\n",
       "      <td>79.523416</td>\n",
       "      <td>f1500a3a-804a-4da4-b6f6-bd0fbb2cf36d</td>\n",
       "      <td>LINESTRING (-70.92855 42.54359, -70.92841 42.5...</td>\n",
       "    </tr>\n",
       "    <tr>\n",
       "      <th>1</th>\n",
       "      <td>2</td>\n",
       "      <td>2</td>\n",
       "      <td>140809</td>\n",
       "      <td>AC; Overhead</td>\n",
       "      <td>In Service</td>\n",
       "      <td>221121</td>\n",
       "      <td>Electric Bulk Power Transmission and Control</td>\n",
       "      <td>Imagery, EIA 860</td>\n",
       "      <td>Wed, 16 Apr 2014 00:00:00 GMT</td>\n",
       "      <td>Imagery</td>\n",
       "      <td>Wed, 15 Feb 2017 00:00:00 GMT</td>\n",
       "      <td>Kingsport Power Co</td>\n",
       "      <td>161.0</td>\n",
       "      <td>100-161</td>\n",
       "      <td>Yes</td>\n",
       "      <td>Phillips Bend</td>\n",
       "      <td>John Sevier</td>\n",
       "      <td>24018.513114</td>\n",
       "      <td>58c24e54-d758-4071-9ebf-d83beb60c707</td>\n",
       "      <td>LINESTRING (-82.96123 36.37699, -82.96090 36.3...</td>\n",
       "    </tr>\n",
       "    <tr>\n",
       "      <th>2</th>\n",
       "      <td>3</td>\n",
       "      <td>3</td>\n",
       "      <td>140837</td>\n",
       "      <td>AC; Overhead</td>\n",
       "      <td>In Service</td>\n",
       "      <td>221121</td>\n",
       "      <td>Electric Bulk Power Transmission and Control</td>\n",
       "      <td>Imagery, https://www9.nationalgridus.com/oasis...</td>\n",
       "      <td>Tue, 16 Jun 2015 00:00:00 GMT</td>\n",
       "      <td>Imagery</td>\n",
       "      <td>Tue, 05 Mar 2019 00:00:00 GMT</td>\n",
       "      <td>Niagara Mohawk Power Corp.</td>\n",
       "      <td>115.0</td>\n",
       "      <td>100-161</td>\n",
       "      <td>Yes</td>\n",
       "      <td>Tap140359</td>\n",
       "      <td>Tap140373</td>\n",
       "      <td>5972.919614</td>\n",
       "      <td>c40bbff1-b1ed-4905-9ff6-1a80b7b422fc</td>\n",
       "      <td>LINESTRING (-75.33407 43.08946, -75.33426 43.0...</td>\n",
       "    </tr>\n",
       "    <tr>\n",
       "      <th>3</th>\n",
       "      <td>4</td>\n",
       "      <td>4</td>\n",
       "      <td>140811</td>\n",
       "      <td>AC; Overhead</td>\n",
       "      <td>In Service</td>\n",
       "      <td>221121</td>\n",
       "      <td>Electric Bulk Power Transmission and Control</td>\n",
       "      <td>Imagery, OpenStreetMap</td>\n",
       "      <td>Fri, 20 Jun 2014 00:00:00 GMT</td>\n",
       "      <td>Imagery</td>\n",
       "      <td>Mon, 20 Mar 2017 00:00:00 GMT</td>\n",
       "      <td>Entergy New Orleans, Llc</td>\n",
       "      <td>115.0</td>\n",
       "      <td>100-161</td>\n",
       "      <td>Yes</td>\n",
       "      <td>Gentilly Road</td>\n",
       "      <td>Michoud Station</td>\n",
       "      <td>14253.092823</td>\n",
       "      <td>f09483e3-5419-4b94-aac5-a6450f2452c4</td>\n",
       "      <td>LINESTRING (-89.93728 30.00905, -89.93773 30.0...</td>\n",
       "    </tr>\n",
       "    <tr>\n",
       "      <th>4</th>\n",
       "      <td>5</td>\n",
       "      <td>5</td>\n",
       "      <td>140813</td>\n",
       "      <td>AC; Overhead</td>\n",
       "      <td>In Service</td>\n",
       "      <td>221121</td>\n",
       "      <td>Electric Bulk Power Transmission and Control</td>\n",
       "      <td>Imagery, EIA 860</td>\n",
       "      <td>Tue, 04 Oct 2016 00:00:00 GMT</td>\n",
       "      <td>Imagery/other</td>\n",
       "      <td>Wed, 09 May 2018 00:00:00 GMT</td>\n",
       "      <td>Midamerican Energy Co</td>\n",
       "      <td>161.0</td>\n",
       "      <td>100-161</td>\n",
       "      <td>Yes</td>\n",
       "      <td>Unknown137689</td>\n",
       "      <td>Tap137690</td>\n",
       "      <td>8950.844317</td>\n",
       "      <td>36ac4f5e-ad18-47c2-bb7d-8ba64b7fa822</td>\n",
       "      <td>LINESTRING (-90.56609 41.61256, -90.56468 41.6...</td>\n",
       "    </tr>\n",
       "  </tbody>\n",
       "</table>\n",
       "</div>"
      ],
      "text/plain": [
       "   OBJECTID_1  OBJECTID      ID          TYPE      STATUS NAICS_CODE  \\\n",
       "0           1         1  100511  AC; Overhead  In Service     221121   \n",
       "1           2         2  140809  AC; Overhead  In Service     221121   \n",
       "2           3         3  140837  AC; Overhead  In Service     221121   \n",
       "3           4         4  140811  AC; Overhead  In Service     221121   \n",
       "4           5         5  140813  AC; Overhead  In Service     221121   \n",
       "\n",
       "                                     NAICS_DESC  \\\n",
       "0  Electric Bulk Power Transmission and Control   \n",
       "1  Electric Bulk Power Transmission and Control   \n",
       "2  Electric Bulk Power Transmission and Control   \n",
       "3  Electric Bulk Power Transmission and Control   \n",
       "4  Electric Bulk Power Transmission and Control   \n",
       "\n",
       "                                              SOURCE  \\\n",
       "0                          Imagery, EIA 861, EIA 860   \n",
       "1                                   Imagery, EIA 860   \n",
       "2  Imagery, https://www9.nationalgridus.com/oasis...   \n",
       "3                             Imagery, OpenStreetMap   \n",
       "4                                   Imagery, EIA 860   \n",
       "\n",
       "                      SOURCEDATE     VAL_METHOD  \\\n",
       "0  Tue, 08 Nov 2016 00:00:00 GMT        Imagery   \n",
       "1  Wed, 16 Apr 2014 00:00:00 GMT        Imagery   \n",
       "2  Tue, 16 Jun 2015 00:00:00 GMT        Imagery   \n",
       "3  Fri, 20 Jun 2014 00:00:00 GMT        Imagery   \n",
       "4  Tue, 04 Oct 2016 00:00:00 GMT  Imagery/other   \n",
       "\n",
       "                        VAL_DATE                       OWNER  VOLTAGE  \\\n",
       "0  Mon, 27 Mar 2017 00:00:00 GMT               Not Available    115.0   \n",
       "1  Wed, 15 Feb 2017 00:00:00 GMT          Kingsport Power Co    161.0   \n",
       "2  Tue, 05 Mar 2019 00:00:00 GMT  Niagara Mohawk Power Corp.    115.0   \n",
       "3  Mon, 20 Mar 2017 00:00:00 GMT    Entergy New Orleans, Llc    115.0   \n",
       "4  Wed, 09 May 2018 00:00:00 GMT       Midamerican Energy Co    161.0   \n",
       "\n",
       "  VOLT_CLASS INFERRED          SUB_1            SUB_2    SHAPE__Len  \\\n",
       "0    100-161      Yes   Waters River        Tap136228     79.523416   \n",
       "1    100-161      Yes  Phillips Bend      John Sevier  24018.513114   \n",
       "2    100-161      Yes      Tap140359        Tap140373   5972.919614   \n",
       "3    100-161      Yes  Gentilly Road  Michoud Station  14253.092823   \n",
       "4    100-161      Yes  Unknown137689        Tap137690   8950.844317   \n",
       "\n",
       "                               GlobalID  \\\n",
       "0  f1500a3a-804a-4da4-b6f6-bd0fbb2cf36d   \n",
       "1  58c24e54-d758-4071-9ebf-d83beb60c707   \n",
       "2  c40bbff1-b1ed-4905-9ff6-1a80b7b422fc   \n",
       "3  f09483e3-5419-4b94-aac5-a6450f2452c4   \n",
       "4  36ac4f5e-ad18-47c2-bb7d-8ba64b7fa822   \n",
       "\n",
       "                                            geometry  \n",
       "0  LINESTRING (-70.92855 42.54359, -70.92841 42.5...  \n",
       "1  LINESTRING (-82.96123 36.37699, -82.96090 36.3...  \n",
       "2  LINESTRING (-75.33407 43.08946, -75.33426 43.0...  \n",
       "3  LINESTRING (-89.93728 30.00905, -89.93773 30.0...  \n",
       "4  LINESTRING (-90.56609 41.61256, -90.56468 41.6...  "
      ]
     },
     "execution_count": 3,
     "metadata": {},
     "output_type": "execute_result"
    }
   ],
   "source": [
    "eia_base_network.head(5)"
   ]
  },
  {
   "cell_type": "markdown",
   "id": "26c45813-2e59-4939-8d3f-f0aebb010d3f",
   "metadata": {},
   "source": [
    "The total number of lines in the EIA dataset is"
   ]
  },
  {
   "cell_type": "code",
   "execution_count": 3,
   "id": "ca91b221-eb13-4aaa-8b47-62a3e84fb45f",
   "metadata": {},
   "outputs": [
    {
     "data": {
      "text/plain": [
       "94216"
      ]
     },
     "execution_count": 3,
     "metadata": {},
     "output_type": "execute_result"
    }
   ],
   "source": [
    "eia_base_network.shape[0]"
   ]
  },
  {
   "cell_type": "markdown",
   "id": "a4921384-1389-435d-a599-10798b0b5667",
   "metadata": {},
   "source": [
    "At first glance, it is possible to see that some transmission lines correspond to a voltage of -999999.0 kV. In particular the number of lines corresponding to -999999.0 is"
   ]
  },
  {
   "cell_type": "code",
   "execution_count": 4,
   "id": "324e5532-0bba-4044-b7ef-b9c5391f7603",
   "metadata": {},
   "outputs": [
    {
     "data": {
      "text/plain": [
       "14062"
      ]
     },
     "execution_count": 4,
     "metadata": {},
     "output_type": "execute_result"
    }
   ],
   "source": [
    "eia_base_network.loc[eia_base_network[\"VOLTAGE\"]==-999999.0].shape[0]"
   ]
  },
  {
   "cell_type": "markdown",
   "id": "00294c37-8da8-4833-91b6-937b1060bb1b",
   "metadata": {},
   "source": [
    "which acoounts for almost 15 % of the lines in the EIA dataset"
   ]
  },
  {
   "cell_type": "code",
   "execution_count": 5,
   "id": "aab7f95e-8308-4fb5-a4dd-ae9adf01d960",
   "metadata": {},
   "outputs": [
    {
     "data": {
      "text/plain": [
       "14.9252780844018"
      ]
     },
     "execution_count": 5,
     "metadata": {},
     "output_type": "execute_result"
    }
   ],
   "source": [
    "eia_base_network.loc[eia_base_network[\"VOLTAGE\"]==-999999.0].shape[0]/eia_base_network.shape[0]*100"
   ]
  },
  {
   "cell_type": "markdown",
   "id": "6fd471bb-0b77-42fe-804f-86e6d12a7852",
   "metadata": {},
   "source": [
    "For the moment, such lines are filtered out"
   ]
  },
  {
   "cell_type": "code",
   "execution_count": 6,
   "id": "f45fef59-eb0b-4798-94bf-5f5125614f5e",
   "metadata": {},
   "outputs": [
    {
     "data": {
      "text/plain": [
       "80154"
      ]
     },
     "execution_count": 6,
     "metadata": {},
     "output_type": "execute_result"
    }
   ],
   "source": [
    "eia_base_network = eia_base_network.loc[eia_base_network[\"VOLTAGE\"]!=-999999.0]\n",
    "eia_base_network.shape[0]"
   ]
  },
  {
   "cell_type": "markdown",
   "id": "c6e3cd18-21ef-4ad5-8e58-f0c2ba817bcc",
   "metadata": {},
   "source": [
    "Get the voltage bins from the reference data"
   ]
  },
  {
   "cell_type": "code",
   "execution_count": 7,
   "id": "09d33fbc-0f56-41c0-b7ad-cc2c0b5ebc84",
   "metadata": {},
   "outputs": [
    {
     "data": {
      "text/plain": [
       "['100-161',\n",
       " 'Under 100',\n",
       " '345',\n",
       " '220-287',\n",
       " '500',\n",
       " '735 And Above',\n",
       " 'Dc',\n",
       " 'Not Available']"
      ]
     },
     "execution_count": 7,
     "metadata": {},
     "output_type": "execute_result"
    }
   ],
   "source": [
    "eia_voltage_bins_flags = eia_base_network[\"VOLT_CLASS\"].unique().tolist()\n",
    "eia_voltage_bins_flags"
   ]
  },
  {
   "cell_type": "code",
   "execution_count": 8,
   "id": "84b6c1a5-8366-481a-8fb6-fd846ceeb2e7",
   "metadata": {},
   "outputs": [
    {
     "data": {
      "text/html": [
       "<div>\n",
       "<style scoped>\n",
       "    .dataframe tbody tr th:only-of-type {\n",
       "        vertical-align: middle;\n",
       "    }\n",
       "\n",
       "    .dataframe tbody tr th {\n",
       "        vertical-align: top;\n",
       "    }\n",
       "\n",
       "    .dataframe thead th {\n",
       "        text-align: right;\n",
       "    }\n",
       "</style>\n",
       "<table border=\"1\" class=\"dataframe\">\n",
       "  <thead>\n",
       "    <tr style=\"text-align: right;\">\n",
       "      <th></th>\n",
       "      <th>voltage_class</th>\n",
       "      <th>voltage_class_min</th>\n",
       "      <th>voltage_class_max</th>\n",
       "    </tr>\n",
       "  </thead>\n",
       "  <tbody>\n",
       "    <tr>\n",
       "      <th>0</th>\n",
       "      <td>100-161</td>\n",
       "      <td>100.0</td>\n",
       "      <td>218.0</td>\n",
       "    </tr>\n",
       "    <tr>\n",
       "      <th>1</th>\n",
       "      <td>Under 100</td>\n",
       "      <td>3.0</td>\n",
       "      <td>92.0</td>\n",
       "    </tr>\n",
       "    <tr>\n",
       "      <th>2</th>\n",
       "      <td>345</td>\n",
       "      <td>345.0</td>\n",
       "      <td>345.0</td>\n",
       "    </tr>\n",
       "    <tr>\n",
       "      <th>3</th>\n",
       "      <td>220-287</td>\n",
       "      <td>220.0</td>\n",
       "      <td>287.0</td>\n",
       "    </tr>\n",
       "    <tr>\n",
       "      <th>4</th>\n",
       "      <td>500</td>\n",
       "      <td>500.0</td>\n",
       "      <td>500.0</td>\n",
       "    </tr>\n",
       "    <tr>\n",
       "      <th>5</th>\n",
       "      <td>735 And Above</td>\n",
       "      <td>765.0</td>\n",
       "      <td>765.0</td>\n",
       "    </tr>\n",
       "    <tr>\n",
       "      <th>6</th>\n",
       "      <td>Dc</td>\n",
       "      <td>200.0</td>\n",
       "      <td>1000.0</td>\n",
       "    </tr>\n",
       "    <tr>\n",
       "      <th>7</th>\n",
       "      <td>Not Available</td>\n",
       "      <td>169.0</td>\n",
       "      <td>169.0</td>\n",
       "    </tr>\n",
       "  </tbody>\n",
       "</table>\n",
       "</div>"
      ],
      "text/plain": [
       "   voltage_class  voltage_class_min  voltage_class_max\n",
       "0        100-161              100.0              218.0\n",
       "1      Under 100                3.0               92.0\n",
       "2            345              345.0              345.0\n",
       "3        220-287              220.0              287.0\n",
       "4            500              500.0              500.0\n",
       "5  735 And Above              765.0              765.0\n",
       "6             Dc              200.0             1000.0\n",
       "7  Not Available              169.0              169.0"
      ]
     },
     "execution_count": 8,
     "metadata": {},
     "output_type": "execute_result"
    }
   ],
   "source": [
    "volt_class_min_values = []\n",
    "volt_class_max_values = []\n",
    "for bin_name in eia_voltage_bins_flags:\n",
    "    volt_class_min_values.append(eia_base_network.loc[eia_base_network[\"VOLT_CLASS\"]==bin_name][\"VOLTAGE\"].min())\n",
    "    volt_class_max_values.append(eia_base_network.loc[eia_base_network[\"VOLT_CLASS\"]==bin_name][\"VOLTAGE\"].max())\n",
    "volt_class_bin_limits = pd.DataFrame(\n",
    "    {\n",
    "        \"voltage_class\": eia_voltage_bins_flags,\n",
    "        \"voltage_class_min\": volt_class_min_values,\n",
    "        \"voltage_class_max\": volt_class_max_values,\n",
    "    }\n",
    ")\n",
    "volt_class_bin_limits"
   ]
  },
  {
   "cell_type": "markdown",
   "id": "8fa0681e-0415-418d-b4e2-b86daec56ea4",
   "metadata": {},
   "source": [
    "The voltage classes in the EIA dataset include also *Dc*. The number of lines corresponding to such voltage class is"
   ]
  },
  {
   "cell_type": "code",
   "execution_count": 9,
   "id": "629a74a6-67f9-4ccf-8966-d6da32ea7b26",
   "metadata": {},
   "outputs": [
    {
     "data": {
      "text/plain": [
       "9"
      ]
     },
     "execution_count": 9,
     "metadata": {},
     "output_type": "execute_result"
    }
   ],
   "source": [
    "eia_base_network.loc[eia_base_network[\"VOLT_CLASS\"]=='Dc'].shape[0]"
   ]
  },
  {
   "cell_type": "markdown",
   "id": "87d3d73d-ad57-4d23-9d7c-9f5c038b8d0d",
   "metadata": {},
   "source": [
    "Considering that the PyPSA-Earth base network does not contain any DC line"
   ]
  },
  {
   "cell_type": "code",
   "execution_count": 10,
   "id": "4a327370-7aab-4b7f-9ec0-592a37963485",
   "metadata": {},
   "outputs": [
    {
     "data": {
      "text/plain": [
       "array([False])"
      ]
     },
     "execution_count": 10,
     "metadata": {},
     "output_type": "execute_result"
    }
   ],
   "source": [
    "base_network_pypsa_earth.lines[\"dc\"].unique()"
   ]
  },
  {
   "cell_type": "markdown",
   "id": "f511271f-9424-4f2b-b5f1-1e5f33b1d636",
   "metadata": {},
   "source": [
    "the lines corresponding to the *Dc* voltage class are removed from the EIA dataset"
   ]
  },
  {
   "cell_type": "code",
   "execution_count": 11,
   "id": "5d213767-beb2-46c2-adff-088a0ab36a6a",
   "metadata": {},
   "outputs": [
    {
     "data": {
      "text/plain": [
       "80145"
      ]
     },
     "execution_count": 11,
     "metadata": {},
     "output_type": "execute_result"
    }
   ],
   "source": [
    "eia_base_network = eia_base_network.loc[eia_base_network[\"VOLT_CLASS\"]!='Dc']\n",
    "eia_base_network.shape[0]"
   ]
  },
  {
   "cell_type": "markdown",
   "id": "129f757b-22b1-4ec0-9da8-23e1aa9e2eae",
   "metadata": {},
   "source": [
    "Furthermore, the lines corresponding to the voltage class *Not Available* are removed as well"
   ]
  },
  {
   "cell_type": "code",
   "execution_count": 12,
   "id": "675d621b-8437-4117-af15-b516c6923948",
   "metadata": {},
   "outputs": [
    {
     "data": {
      "text/plain": [
       "80144"
      ]
     },
     "execution_count": 12,
     "metadata": {},
     "output_type": "execute_result"
    }
   ],
   "source": [
    "eia_base_network = eia_base_network.loc[eia_base_network[\"VOLT_CLASS\"]!='Not Available']\n",
    "eia_base_network.shape[0]"
   ]
  },
  {
   "cell_type": "code",
   "execution_count": 13,
   "id": "3056a25c-6564-4eb9-ac16-4cc1849c010e",
   "metadata": {},
   "outputs": [
    {
     "data": {
      "text/plain": [
       "array(['In Service', 'Not Available', 'Under Construction', 'Inactive',\n",
       "       'Proposed'], dtype=object)"
      ]
     },
     "execution_count": 13,
     "metadata": {},
     "output_type": "execute_result"
    }
   ],
   "source": [
    "eia_base_network[\"STATUS\"].unique()"
   ]
  },
  {
   "cell_type": "markdown",
   "id": "2a10e410-4b3a-44dc-b7c9-3aedabf0049b",
   "metadata": {},
   "source": [
    "# PyPSA-Earth - EIA comparison"
   ]
  },
  {
   "cell_type": "markdown",
   "id": "e988bf18-65f5-4ce0-a792-3256966c9e98",
   "metadata": {},
   "source": [
    "Add the voltage class to the PyPSA-Earth base network"
   ]
  },
  {
   "cell_type": "code",
   "execution_count": null,
   "id": "ad287605-a4b4-48c0-a9a1-598c3df2f7b5",
   "metadata": {},
   "outputs": [],
   "source": [
    "base_network_pypsa_earth.lines[\"v_nom_class\"] = base_network_pypsa_earth.lines[\"v_nom\"]\n",
    "base_network_pypsa_earth.lines"
   ]
  },
  {
   "cell_type": "code",
   "execution_count": null,
   "id": "55bdd3b4-ffa2-4f81-9ec8-3b77106dd596",
   "metadata": {},
   "outputs": [],
   "source": [
    "v_nom_class_dict_pypsa_earth = {\n",
    "    55.: 'Under 100',\n",
    "    57.1: 'Under 100', \n",
    "    60.: 'Under 100',\n",
    "    66.: 'Under 100',  \n",
    "    69.: 'Under 100',  \n",
    "    70.: 'Under 100',  \n",
    "    88.: 'Under 100', \n",
    "    92.: 'Under 100', \n",
    "    100.: \"100-161\",\n",
    "    115.: \"100-161\", \n",
    "    120.: \"100-161\",  \n",
    "    125.: \"100-161\",  \n",
    "    138.: \"100-161\",  \n",
    "    160.: \"100-161\",  \n",
    "    161.: \"100-161\",\n",
    "    220.: \"220-287\",\n",
    "    230.: \"220-287\",\n",
    "    287.: \"220-287\",\n",
    "    345.: \"345\",\n",
    "    500.: \"500\",\n",
    "    765.: \"735 And Above\"\n",
    "}"
   ]
  },
  {
   "cell_type": "code",
   "execution_count": null,
   "id": "944286ec-0726-4ed7-9aa4-e126681aeb2f",
   "metadata": {},
   "outputs": [],
   "source": [
    "base_network_pypsa_earth.lines[\"v_nom_class\"] = base_network_pypsa_earth.lines[\"v_nom_class\"].replace(v_nom_class_dict_pypsa_earth)\n",
    "base_network_pypsa_earth.lines"
   ]
  },
  {
   "cell_type": "markdown",
   "id": "89c1d60c-3a10-4d89-822f-d66b71e77270",
   "metadata": {},
   "source": [
    "### Count plot"
   ]
  },
  {
   "cell_type": "code",
   "execution_count": null,
   "id": "01938760-ed18-43da-bbb4-bcffc1715b8a",
   "metadata": {},
   "outputs": [],
   "source": [
    "sbn.countplot(data=base_network_pypsa_earth.lines, x=base_network_pypsa_earth.lines[\"v_nom_class\"]).set(title='PyPSA-Earth base network')"
   ]
  },
  {
   "cell_type": "code",
   "execution_count": null,
   "id": "ef85fdaf-7323-4042-a77c-7af1e4e7921e",
   "metadata": {},
   "outputs": [],
   "source": [
    "sbn.countplot(data=eia_base_network, x=eia_base_network[\"VOLT_CLASS\"], color=\"orange\").set(title='EIA network topology')"
   ]
  },
  {
   "cell_type": "markdown",
   "id": "19910a10-4cd3-4a7d-8449-1c22f8228bc5",
   "metadata": {},
   "source": [
    "### Maps"
   ]
  },
  {
   "cell_type": "code",
   "execution_count": null,
   "id": "b41b40d0-d338-4962-8d71-d6941a02a19c",
   "metadata": {},
   "outputs": [],
   "source": [
    "# Available voltage classes are:\n",
    "# Under 100\n",
    "# 100-161\n",
    "# 220-287\n",
    "# 345\n",
    "# 500\n",
    "# 735 And Above\n",
    "\n",
    "selected_voltage_class_earth = \"735 And Above\""
   ]
  },
  {
   "cell_type": "code",
   "execution_count": null,
   "id": "324f87ce-860d-4f65-b221-e7bd40ddb4f4",
   "metadata": {},
   "outputs": [],
   "source": [
    "base_network_pypsa_earth.lines[\"line_width\"] = 0.0\n",
    "base_network_pypsa_earth.lines.loc[base_network_pypsa_earth.lines[\"v_nom_class\"] == selected_voltage_class_earth, \"line_width\"] = 1.0\n",
    "\n",
    "fig, (ax1, ax2) = plt.subplots(nrows=1, ncols=2, sharey=True, subplot_kw={\"projection\":ccrs.PlateCarree(), \"projection\":ccrs.PlateCarree()}, figsize=(20, 4))\n",
    "base_network_pypsa_earth.plot(line_widths = base_network_pypsa_earth.lines[\"line_width\"], bus_sizes = 0, line_colors = \"blue\", ax=ax1)\n",
    "base_network_pypsa_earth.plot(line_widths = base_network_pypsa_earth.lines[\"line_width\"], bus_sizes = 0, line_colors = \"white\", ax=ax2)\n",
    "eia_base_network.loc[eia_base_network[\"VOLT_CLASS\"]==selected_voltage_class_earth].plot(ax=ax2, color=\"orange\")\n",
    "fig.suptitle(\"Comparison for voltage class: {}\".format(selected_voltage_class_earth))\n",
    "ax1.set_aspect('equal')\n",
    "ax1.title.set_text(\"PyPSA-Earth base network\")\n",
    "ax2.set_aspect(\"equal\")\n",
    "ax2.title.set_text(\"EIA network\")"
   ]
  },
  {
   "cell_type": "code",
   "execution_count": null,
   "id": "9cd4ac85-703f-44b0-8f0a-d8afeb79928f",
   "metadata": {},
   "outputs": [],
   "source": [
    "fig.savefig(\"network_comparison_for_voltage_class_{}.png\".format(str(selected_voltage_class_earth)))"
   ]
  },
  {
   "cell_type": "markdown",
   "id": "1c0780b6-00c1-45a8-9f8c-44af8a36f147",
   "metadata": {},
   "source": [
    "# PyPSA-USA - EIA comparison"
   ]
  },
  {
   "cell_type": "markdown",
   "id": "52fa0575-26e3-4296-9580-4a0b3d7f5618",
   "metadata": {},
   "source": [
    "Add the voltage class to the PyPSA-USA base network"
   ]
  },
  {
   "cell_type": "code",
   "execution_count": null,
   "id": "6e966a22-db73-4585-bb8a-d9661627ccd5",
   "metadata": {},
   "outputs": [],
   "source": [
    "base_network_pypsa_usa.lines[\"v_nom_class\"] = base_network_pypsa_usa.lines[\"v_nom\"]\n",
    "base_network_pypsa_usa.lines"
   ]
  },
  {
   "cell_type": "code",
   "execution_count": null,
   "id": "bfab248d-5fe5-4838-8481-636a7396aefa",
   "metadata": {},
   "outputs": [],
   "source": [
    "base_network_pypsa_usa.lines.v_nom.unique()"
   ]
  },
  {
   "cell_type": "code",
   "execution_count": null,
   "id": "93f4ac4d-7425-4373-897d-bff930054b62",
   "metadata": {},
   "outputs": [],
   "source": [
    "v_nom_class_dict_pypsa_usa = {\n",
    "    69.: 'Under 100',\n",
    "    100.: \"100-161\",\n",
    "    138.: \"100-161\", \n",
    "    115.: \"100-161\", \n",
    "    161.: \"100-161\",\n",
    "    230.: \"220-287\",\n",
    "    345.: \"345\",\n",
    "    500.: \"500\",\n",
    "    765.: \"735 And Above\"\n",
    "}"
   ]
  },
  {
   "cell_type": "code",
   "execution_count": null,
   "id": "09251057-c7d2-4d37-9ccc-3b57a9228d3a",
   "metadata": {},
   "outputs": [],
   "source": [
    "base_network_pypsa_usa.lines[\"v_nom_class\"] = base_network_pypsa_usa.lines[\"v_nom_class\"].replace(v_nom_class_dict_pypsa_usa)"
   ]
  },
  {
   "cell_type": "markdown",
   "id": "6136df80-3c28-4012-ad20-1305a1bfee6f",
   "metadata": {},
   "source": [
    "### Maps"
   ]
  },
  {
   "cell_type": "code",
   "execution_count": null,
   "id": "d6ac5655-b913-4163-81cb-8c52bd29f99c",
   "metadata": {},
   "outputs": [],
   "source": [
    "# Available voltage classes are:\n",
    "# Under 100\n",
    "# 100-161\n",
    "# 220-287\n",
    "# 345\n",
    "# 500\n",
    "# 735 And Above\n",
    "\n",
    "selected_voltage_class_usa = \"735 And Above\""
   ]
  },
  {
   "cell_type": "code",
   "execution_count": null,
   "id": "2bc49844-be2f-484f-9257-e5babe261f19",
   "metadata": {},
   "outputs": [],
   "source": [
    "base_network_pypsa_usa.lines[\"line_width\"] = 0.0\n",
    "base_network_pypsa_usa.lines.loc[base_network_pypsa_usa.lines[\"v_nom_class\"] == selected_voltage_class_usa, \"line_width\"] = 1.0\n",
    "\n",
    "fig, (ax1, ax2) = plt.subplots(nrows=1, ncols=2, sharey=True, subplot_kw={\"projection\":ccrs.PlateCarree(), \"projection\":ccrs.PlateCarree()}, figsize=(20, 4))\n",
    "base_network_pypsa_usa.plot(line_widths = base_network_pypsa_usa.lines[\"line_width\"], bus_sizes = 0, line_colors = \"blue\", ax=ax1)\n",
    "base_network_pypsa_usa.plot(line_widths = base_network_pypsa_usa.lines[\"line_width\"], bus_sizes = 0, line_colors = \"white\", ax=ax2)\n",
    "eia_base_network.loc[eia_base_network[\"VOLT_CLASS\"]==selected_voltage_class_usa].plot(ax=ax2, color=\"orange\")\n",
    "fig.suptitle(\"Comparison for voltage class: {}\".format(selected_voltage_class_usa))\n",
    "ax1.set_aspect('equal')\n",
    "ax1.title.set_text(\"PyPSA-USA base network\")\n",
    "ax2.set_aspect(\"equal\")\n",
    "ax2.title.set_text(\"EIA network\")"
   ]
  },
  {
   "cell_type": "code",
   "execution_count": null,
   "id": "fccbfa03-0ebb-40d7-aed7-7fdd9dacc243",
   "metadata": {},
   "outputs": [],
   "source": [
    "fig.savefig(\"network_comparison_pusa_for_voltage_class_{}.png\".format(str(selected_voltage_class_usa)))"
   ]
  },
  {
   "cell_type": "markdown",
   "id": "a60a2efe-4463-4f83-9ad0-5d5cd571e417",
   "metadata": {},
   "source": [
    "## Compare crossings"
   ]
  },
  {
   "cell_type": "code",
   "execution_count": null,
   "id": "5ff69ac8-7622-4f36-9b41-d4f768f9caae",
   "metadata": {},
   "outputs": [],
   "source": [
    "gadm_usa_json_path_level_1 = \"/Users/fabriziofinozzi/Desktop/OpenEnergyTransition/repo/geothermal-modelling/analysis/data/gadm41_USA_1.json\"\n",
    "gadm_gdp_usa_level_1 = gpd.read_file(gadm_usa_json_path_level_1)"
   ]
  },
  {
   "cell_type": "code",
   "execution_count": null,
   "id": "930ebca6-3ceb-4f31-8e2f-4cb803c5ac41",
   "metadata": {},
   "outputs": [],
   "source": [
    "gadm_gdp_usa_level_1.head(2)"
   ]
  },
  {
   "cell_type": "markdown",
   "id": "db10ebc2-5fde-46dc-aa88-5a6f517987b2",
   "metadata": {},
   "source": [
    "Apply a spatial join between the reference transmission lines topology from EIA and the GADM shapes (level 1)"
   ]
  },
  {
   "cell_type": "code",
   "execution_count": null,
   "id": "753eece7-367d-4bb5-bd74-738567a0bbd0",
   "metadata": {},
   "outputs": [],
   "source": [
    "spatial_join_gadm_eia = eia_base_network.sjoin(gadm_gdp_usa_level_1, how=\"inner\")\n",
    "spatial_join_gadm_eia.head(2)"
   ]
  },
  {
   "cell_type": "code",
   "execution_count": null,
   "id": "5e1da14c-d140-4ec0-adff-47f78d5a52e8",
   "metadata": {},
   "outputs": [],
   "source": [
    "spatial_join_gadm_eia[[\"ID\", \"GID_1\", \"VOLTAGE\", \"VOLT_CLASS\", \"ISO_1\", \"NAME_1\"]].head(2)"
   ]
  },
  {
   "cell_type": "markdown",
   "id": "625f29c9-0104-49f8-905d-3b220d88f123",
   "metadata": {},
   "source": [
    "Apply a spatial join between the transmission lines topology from the PyPSA-Earth base network and the GADM shapes (level 1)"
   ]
  },
  {
   "cell_type": "code",
   "execution_count": null,
   "id": "40ec5e25-de0e-4dac-832e-98a703751b0d",
   "metadata": {},
   "outputs": [],
   "source": [
    "base_network_pypsa_earth_geopandas = gpd.GeoDataFrame(base_network_pypsa_earth.lines, geometry=gpd.GeoSeries.from_wkt(base_network_pypsa_earth.lines.geometry), crs=\"EPSG:4326\")"
   ]
  },
  {
   "cell_type": "code",
   "execution_count": null,
   "id": "9ec64d85-b83f-4e38-b2bc-3f754d362653",
   "metadata": {},
   "outputs": [],
   "source": [
    "spatial_join_gadm_pypsa_earth = base_network_pypsa_earth_geopandas.sjoin(gadm_gdp_usa_level_1, how=\"inner\")\n",
    "spatial_join_gadm_pypsa_earth.head(5)"
   ]
  },
  {
   "cell_type": "code",
   "execution_count": null,
   "id": "9484b675-e08f-4621-961d-e0e65d5eafab",
   "metadata": {},
   "outputs": [],
   "source": [
    "spatial_join_gadm_pypsa_earth[[\"GID_1\", \"v_nom\", \"v_nom_class\", \"type\", \"num_parallel\", \"ISO_1\", \"NAME_1\"]].head(2)"
   ]
  },
  {
   "cell_type": "code",
   "execution_count": null,
   "id": "bbf99096-757d-40dc-b3a0-f534759dd048",
   "metadata": {},
   "outputs": [],
   "source": []
  }
 ],
 "metadata": {
  "kernelspec": {
   "display_name": "Python 3 (ipykernel)",
   "language": "python",
   "name": "python3"
  },
  "language_info": {
   "codemirror_mode": {
    "name": "ipython",
    "version": 3
   },
   "file_extension": ".py",
   "mimetype": "text/x-python",
   "name": "python",
   "nbconvert_exporter": "python",
   "pygments_lexer": "ipython3",
   "version": "3.10.14"
  }
 },
 "nbformat": 4,
 "nbformat_minor": 5
}
