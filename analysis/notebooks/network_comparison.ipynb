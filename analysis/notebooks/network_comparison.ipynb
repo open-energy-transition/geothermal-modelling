{
 "cells": [
  {
   "cell_type": "code",
   "execution_count": 1,
   "id": "c96e79c3-1eca-4381-aacf-a59e7d0a2e4f",
   "metadata": {},
   "outputs": [
    {
     "name": "stderr",
     "output_type": "stream",
     "text": [
      "/opt/anaconda3/envs/pypsa-earth/lib/python3.10/site-packages/pypsa/networkclustering.py:23: UserWarning:\n",
      "\n",
      "The namespace `pypsa.networkclustering` is deprecated and will be removed in PyPSA v0.24. Please use `pypsa.clustering.spatial instead`. \n",
      "\n"
     ]
    }
   ],
   "source": [
    "import pandas as pd\n",
    "import pathlib\n",
    "import geopandas as gpd\n",
    "import matplotlib.pyplot as plt\n",
    "import pypsa\n",
    "import numpy as np\n",
    "import seaborn as sbn\n",
    "import cartopy.crs as ccrs\n",
    "pd.options.display.max_columns = None\n",
    "pd.options.display.max_rows = None"
   ]
  },
  {
   "cell_type": "markdown",
   "id": "db4a9173-b85b-4432-bbde-e048f686b3ca",
   "metadata": {},
   "source": [
    "# Load the input data"
   ]
  },
  {
   "cell_type": "code",
   "execution_count": 2,
   "id": "0e8f6b7b-7beb-4214-9cc5-c2b0706c40d0",
   "metadata": {},
   "outputs": [
    {
     "name": "stderr",
     "output_type": "stream",
     "text": [
      "/opt/anaconda3/envs/pypsa-earth/lib/python3.10/site-packages/pypsa/components.py:318: FutureWarning:\n",
      "\n",
      "Setting an item of incompatible dtype is deprecated and will raise an error in a future version of pandas. Value '[]' has dtype incompatible with float64, please explicitly cast to a compatible dtype first.\n",
      "\n",
      "/opt/anaconda3/envs/pypsa-earth/lib/python3.10/site-packages/pypsa/components.py:318: FutureWarning:\n",
      "\n",
      "Setting an item of incompatible dtype is deprecated and will raise an error in a future version of pandas. Value '[]' has dtype incompatible with float64, please explicitly cast to a compatible dtype first.\n",
      "\n",
      "/opt/anaconda3/envs/pypsa-earth/lib/python3.10/site-packages/pypsa/components.py:318: FutureWarning:\n",
      "\n",
      "Setting an item of incompatible dtype is deprecated and will raise an error in a future version of pandas. Value '[]' has dtype incompatible with float64, please explicitly cast to a compatible dtype first.\n",
      "\n",
      "/opt/anaconda3/envs/pypsa-earth/lib/python3.10/site-packages/pypsa/components.py:318: FutureWarning:\n",
      "\n",
      "Setting an item of incompatible dtype is deprecated and will raise an error in a future version of pandas. Value '[]' has dtype incompatible with float64, please explicitly cast to a compatible dtype first.\n",
      "\n",
      "INFO:pypsa.io:Imported network base.nc has buses, lines, links, transformers\n",
      "/opt/anaconda3/envs/pypsa-earth/lib/python3.10/site-packages/pypsa/components.py:318: FutureWarning:\n",
      "\n",
      "Setting an item of incompatible dtype is deprecated and will raise an error in a future version of pandas. Value '[]' has dtype incompatible with float64, please explicitly cast to a compatible dtype first.\n",
      "\n",
      "/opt/anaconda3/envs/pypsa-earth/lib/python3.10/site-packages/pypsa/components.py:318: FutureWarning:\n",
      "\n",
      "Setting an item of incompatible dtype is deprecated and will raise an error in a future version of pandas. Value '[]' has dtype incompatible with float64, please explicitly cast to a compatible dtype first.\n",
      "\n",
      "/opt/anaconda3/envs/pypsa-earth/lib/python3.10/site-packages/pypsa/components.py:318: FutureWarning:\n",
      "\n",
      "Setting an item of incompatible dtype is deprecated and will raise an error in a future version of pandas. Value '[]' has dtype incompatible with float64, please explicitly cast to a compatible dtype first.\n",
      "\n",
      "/opt/anaconda3/envs/pypsa-earth/lib/python3.10/site-packages/pypsa/components.py:318: FutureWarning:\n",
      "\n",
      "Setting an item of incompatible dtype is deprecated and will raise an error in a future version of pandas. Value '[]' has dtype incompatible with float64, please explicitly cast to a compatible dtype first.\n",
      "\n",
      "INFO:pypsa.io:Imported network elec_base_network.nc has buses, lines, line_types, links, transformers\n"
     ]
    }
   ],
   "source": [
    "base_path = pathlib.Path(\"/Users/fabriziofinozzi/Desktop/OpenEnergyTransition/repo/\")\n",
    "base_network_pypsa_earth = pypsa.Network(pathlib.Path(base_path, \"geothermal-modelling/workflow/pypsa-earth/networks/US_2021/base.nc\"))\n",
    "base_network_pypsa_usa = pypsa.Network(pathlib.Path(base_path, \"pypsa-usa/workflow/resources/Default/usa/elec_base_network.nc\"))\n",
    "eia_base_network = gpd.read_file(pathlib.Path(base_path, \"US_Electric_Power_Transmission_Lines_5037807202786552385.geojson\"))"
   ]
  },
  {
   "cell_type": "markdown",
   "id": "26c45813-2e59-4939-8d3f-f0aebb010d3f",
   "metadata": {},
   "source": [
    "The total number of lines in the EIA dataset is"
   ]
  },
  {
   "cell_type": "code",
   "execution_count": 3,
   "id": "ca91b221-eb13-4aaa-8b47-62a3e84fb45f",
   "metadata": {},
   "outputs": [
    {
     "data": {
      "text/plain": [
       "94216"
      ]
     },
     "execution_count": 3,
     "metadata": {},
     "output_type": "execute_result"
    }
   ],
   "source": [
    "eia_base_network.shape[0]"
   ]
  },
  {
   "cell_type": "markdown",
   "id": "a4921384-1389-435d-a599-10798b0b5667",
   "metadata": {},
   "source": [
    "At first glance, it is possible to see that some transmission lines correspond to a voltage of -999999.0 kV. In particular the number of lines corresponding to -999999.0 is"
   ]
  },
  {
   "cell_type": "code",
   "execution_count": 4,
   "id": "324e5532-0bba-4044-b7ef-b9c5391f7603",
   "metadata": {},
   "outputs": [
    {
     "data": {
      "text/plain": [
       "14062"
      ]
     },
     "execution_count": 4,
     "metadata": {},
     "output_type": "execute_result"
    }
   ],
   "source": [
    "eia_base_network.loc[eia_base_network[\"VOLTAGE\"]==-999999.0].shape[0]"
   ]
  },
  {
   "cell_type": "markdown",
   "id": "00294c37-8da8-4833-91b6-937b1060bb1b",
   "metadata": {},
   "source": [
    "which acoounts for almost 15 % of the lines in the EIA dataset"
   ]
  },
  {
   "cell_type": "code",
   "execution_count": 5,
   "id": "aab7f95e-8308-4fb5-a4dd-ae9adf01d960",
   "metadata": {},
   "outputs": [
    {
     "data": {
      "text/plain": [
       "14.9252780844018"
      ]
     },
     "execution_count": 5,
     "metadata": {},
     "output_type": "execute_result"
    }
   ],
   "source": [
    "eia_base_network.loc[eia_base_network[\"VOLTAGE\"]==-999999.0].shape[0]/eia_base_network.shape[0]*100"
   ]
  },
  {
   "cell_type": "markdown",
   "id": "6fd471bb-0b77-42fe-804f-86e6d12a7852",
   "metadata": {},
   "source": [
    "For the moment, such lines are filtered out"
   ]
  },
  {
   "cell_type": "code",
   "execution_count": 6,
   "id": "f45fef59-eb0b-4798-94bf-5f5125614f5e",
   "metadata": {},
   "outputs": [
    {
     "data": {
      "text/plain": [
       "80154"
      ]
     },
     "execution_count": 6,
     "metadata": {},
     "output_type": "execute_result"
    }
   ],
   "source": [
    "eia_base_network = eia_base_network.loc[eia_base_network[\"VOLTAGE\"]!=-999999.0]\n",
    "eia_base_network.shape[0]"
   ]
  },
  {
   "cell_type": "markdown",
   "id": "c6e3cd18-21ef-4ad5-8e58-f0c2ba817bcc",
   "metadata": {},
   "source": [
    "Get the voltage bins from the reference data"
   ]
  },
  {
   "cell_type": "code",
   "execution_count": 7,
   "id": "09d33fbc-0f56-41c0-b7ad-cc2c0b5ebc84",
   "metadata": {},
   "outputs": [
    {
     "data": {
      "text/plain": [
       "['100-161',\n",
       " 'Under 100',\n",
       " '345',\n",
       " '220-287',\n",
       " '500',\n",
       " '735 And Above',\n",
       " 'Dc',\n",
       " 'Not Available']"
      ]
     },
     "execution_count": 7,
     "metadata": {},
     "output_type": "execute_result"
    }
   ],
   "source": [
    "eia_voltage_bins_flags = eia_base_network[\"VOLT_CLASS\"].unique().tolist()\n",
    "eia_voltage_bins_flags"
   ]
  },
  {
   "cell_type": "code",
   "execution_count": 8,
   "id": "84b6c1a5-8366-481a-8fb6-fd846ceeb2e7",
   "metadata": {},
   "outputs": [
    {
     "data": {
      "text/html": [
       "<div>\n",
       "<style scoped>\n",
       "    .dataframe tbody tr th:only-of-type {\n",
       "        vertical-align: middle;\n",
       "    }\n",
       "\n",
       "    .dataframe tbody tr th {\n",
       "        vertical-align: top;\n",
       "    }\n",
       "\n",
       "    .dataframe thead th {\n",
       "        text-align: right;\n",
       "    }\n",
       "</style>\n",
       "<table border=\"1\" class=\"dataframe\">\n",
       "  <thead>\n",
       "    <tr style=\"text-align: right;\">\n",
       "      <th></th>\n",
       "      <th>voltage_class</th>\n",
       "      <th>voltage_class_min</th>\n",
       "      <th>voltage_class_max</th>\n",
       "    </tr>\n",
       "  </thead>\n",
       "  <tbody>\n",
       "    <tr>\n",
       "      <th>0</th>\n",
       "      <td>100-161</td>\n",
       "      <td>100.0</td>\n",
       "      <td>218.0</td>\n",
       "    </tr>\n",
       "    <tr>\n",
       "      <th>1</th>\n",
       "      <td>Under 100</td>\n",
       "      <td>3.0</td>\n",
       "      <td>92.0</td>\n",
       "    </tr>\n",
       "    <tr>\n",
       "      <th>2</th>\n",
       "      <td>345</td>\n",
       "      <td>345.0</td>\n",
       "      <td>345.0</td>\n",
       "    </tr>\n",
       "    <tr>\n",
       "      <th>3</th>\n",
       "      <td>220-287</td>\n",
       "      <td>220.0</td>\n",
       "      <td>287.0</td>\n",
       "    </tr>\n",
       "    <tr>\n",
       "      <th>4</th>\n",
       "      <td>500</td>\n",
       "      <td>500.0</td>\n",
       "      <td>500.0</td>\n",
       "    </tr>\n",
       "    <tr>\n",
       "      <th>5</th>\n",
       "      <td>735 And Above</td>\n",
       "      <td>765.0</td>\n",
       "      <td>765.0</td>\n",
       "    </tr>\n",
       "    <tr>\n",
       "      <th>6</th>\n",
       "      <td>Dc</td>\n",
       "      <td>200.0</td>\n",
       "      <td>1000.0</td>\n",
       "    </tr>\n",
       "    <tr>\n",
       "      <th>7</th>\n",
       "      <td>Not Available</td>\n",
       "      <td>169.0</td>\n",
       "      <td>169.0</td>\n",
       "    </tr>\n",
       "  </tbody>\n",
       "</table>\n",
       "</div>"
      ],
      "text/plain": [
       "   voltage_class  voltage_class_min  voltage_class_max\n",
       "0        100-161              100.0              218.0\n",
       "1      Under 100                3.0               92.0\n",
       "2            345              345.0              345.0\n",
       "3        220-287              220.0              287.0\n",
       "4            500              500.0              500.0\n",
       "5  735 And Above              765.0              765.0\n",
       "6             Dc              200.0             1000.0\n",
       "7  Not Available              169.0              169.0"
      ]
     },
     "execution_count": 8,
     "metadata": {},
     "output_type": "execute_result"
    }
   ],
   "source": [
    "volt_class_min_values = []\n",
    "volt_class_max_values = []\n",
    "for bin_name in eia_voltage_bins_flags:\n",
    "    volt_class_min_values.append(eia_base_network.loc[eia_base_network[\"VOLT_CLASS\"]==bin_name][\"VOLTAGE\"].min())\n",
    "    volt_class_max_values.append(eia_base_network.loc[eia_base_network[\"VOLT_CLASS\"]==bin_name][\"VOLTAGE\"].max())\n",
    "volt_class_bin_limits = pd.DataFrame(\n",
    "    {\n",
    "        \"voltage_class\": eia_voltage_bins_flags,\n",
    "        \"voltage_class_min\": volt_class_min_values,\n",
    "        \"voltage_class_max\": volt_class_max_values,\n",
    "    }\n",
    ")\n",
    "volt_class_bin_limits"
   ]
  },
  {
   "cell_type": "markdown",
   "id": "8fa0681e-0415-418d-b4e2-b86daec56ea4",
   "metadata": {},
   "source": [
    "The voltage classes in the EIA dataset include also *Dc*. The number of lines corresponding to such voltage class is"
   ]
  },
  {
   "cell_type": "code",
   "execution_count": 9,
   "id": "629a74a6-67f9-4ccf-8966-d6da32ea7b26",
   "metadata": {},
   "outputs": [
    {
     "data": {
      "text/plain": [
       "9"
      ]
     },
     "execution_count": 9,
     "metadata": {},
     "output_type": "execute_result"
    }
   ],
   "source": [
    "eia_base_network.loc[eia_base_network[\"VOLT_CLASS\"]=='Dc'].shape[0]"
   ]
  },
  {
   "cell_type": "markdown",
   "id": "87d3d73d-ad57-4d23-9d7c-9f5c038b8d0d",
   "metadata": {},
   "source": [
    "Considering that the PyPSA-Earth base network does not contain any DC line"
   ]
  },
  {
   "cell_type": "code",
   "execution_count": 10,
   "id": "4a327370-7aab-4b7f-9ec0-592a37963485",
   "metadata": {},
   "outputs": [
    {
     "data": {
      "text/plain": [
       "array([False])"
      ]
     },
     "execution_count": 10,
     "metadata": {},
     "output_type": "execute_result"
    }
   ],
   "source": [
    "base_network_pypsa_earth.lines[\"dc\"].unique()"
   ]
  },
  {
   "cell_type": "markdown",
   "id": "f511271f-9424-4f2b-b5f1-1e5f33b1d636",
   "metadata": {},
   "source": [
    "the lines corresponding to the *Dc* voltage class are removed from the EIA dataset"
   ]
  },
  {
   "cell_type": "code",
   "execution_count": 11,
   "id": "5d213767-beb2-46c2-adff-088a0ab36a6a",
   "metadata": {},
   "outputs": [
    {
     "data": {
      "text/plain": [
       "80145"
      ]
     },
     "execution_count": 11,
     "metadata": {},
     "output_type": "execute_result"
    }
   ],
   "source": [
    "eia_base_network = eia_base_network.loc[eia_base_network[\"VOLT_CLASS\"]!='Dc']\n",
    "eia_base_network.shape[0]"
   ]
  },
  {
   "cell_type": "markdown",
   "id": "129f757b-22b1-4ec0-9da8-23e1aa9e2eae",
   "metadata": {},
   "source": [
    "Furthermore, the lines corresponding to the voltage class *Not Available* are removed as well"
   ]
  },
  {
   "cell_type": "code",
   "execution_count": 12,
   "id": "675d621b-8437-4117-af15-b516c6923948",
   "metadata": {},
   "outputs": [
    {
     "data": {
      "text/plain": [
       "80144"
      ]
     },
     "execution_count": 12,
     "metadata": {},
     "output_type": "execute_result"
    }
   ],
   "source": [
    "eia_base_network = eia_base_network.loc[eia_base_network[\"VOLT_CLASS\"]!='Not Available']\n",
    "eia_base_network.shape[0]"
   ]
  },
  {
   "cell_type": "code",
   "execution_count": 13,
   "id": "3056a25c-6564-4eb9-ac16-4cc1849c010e",
   "metadata": {},
   "outputs": [
    {
     "data": {
      "text/plain": [
       "array(['In Service', 'Not Available', 'Under Construction', 'Inactive',\n",
       "       'Proposed'], dtype=object)"
      ]
     },
     "execution_count": 13,
     "metadata": {},
     "output_type": "execute_result"
    }
   ],
   "source": [
    "eia_base_network[\"STATUS\"].unique()"
   ]
  },
  {
   "cell_type": "code",
   "execution_count": 14,
   "id": "553ca10c-c8cf-4515-810f-61a9d179fa30",
   "metadata": {},
   "outputs": [
    {
     "data": {
      "text/plain": [
       "24028"
      ]
     },
     "execution_count": 14,
     "metadata": {},
     "output_type": "execute_result"
    }
   ],
   "source": [
    "base_network_pypsa_earth.lines.shape[0]"
   ]
  },
  {
   "cell_type": "markdown",
   "id": "2a10e410-4b3a-44dc-b7c9-3aedabf0049b",
   "metadata": {},
   "source": [
    "# PyPSA-Earth - EIA comparison"
   ]
  },
  {
   "cell_type": "markdown",
   "id": "e988bf18-65f5-4ce0-a792-3256966c9e98",
   "metadata": {},
   "source": [
    "Add the voltage class to the PyPSA-Earth base network"
   ]
  },
  {
   "cell_type": "code",
   "execution_count": 15,
   "id": "ad287605-a4b4-48c0-a9a1-598c3df2f7b5",
   "metadata": {},
   "outputs": [
    {
     "data": {
      "text/html": [
       "<div>\n",
       "<style scoped>\n",
       "    .dataframe tbody tr th:only-of-type {\n",
       "        vertical-align: middle;\n",
       "    }\n",
       "\n",
       "    .dataframe tbody tr th {\n",
       "        vertical-align: top;\n",
       "    }\n",
       "\n",
       "    .dataframe thead th {\n",
       "        text-align: right;\n",
       "    }\n",
       "</style>\n",
       "<table border=\"1\" class=\"dataframe\">\n",
       "  <thead>\n",
       "    <tr style=\"text-align: right;\">\n",
       "      <th></th>\n",
       "      <th>tag_type</th>\n",
       "      <th>v_nom</th>\n",
       "      <th>num_parallel</th>\n",
       "      <th>tag_frequency</th>\n",
       "      <th>bus0</th>\n",
       "      <th>bus1</th>\n",
       "      <th>length</th>\n",
       "      <th>underground</th>\n",
       "      <th>under_construction</th>\n",
       "      <th>dc</th>\n",
       "      <th>country</th>\n",
       "      <th>geometry</th>\n",
       "      <th>bounds</th>\n",
       "      <th>bus_0_coors</th>\n",
       "      <th>bus_1_coors</th>\n",
       "      <th>bus0_lon</th>\n",
       "      <th>bus0_lat</th>\n",
       "      <th>bus1_lon</th>\n",
       "      <th>bus1_lat</th>\n",
       "      <th>carrier</th>\n",
       "      <th>type</th>\n",
       "      <th>s_max_pu</th>\n",
       "      <th>s_nom</th>\n",
       "      <th>underwater_fraction</th>\n",
       "      <th>x</th>\n",
       "      <th>r</th>\n",
       "      <th>g</th>\n",
       "      <th>b</th>\n",
       "      <th>s_nom_extendable</th>\n",
       "      <th>s_nom_min</th>\n",
       "      <th>s_nom_max</th>\n",
       "      <th>capital_cost</th>\n",
       "      <th>build_year</th>\n",
       "      <th>lifetime</th>\n",
       "      <th>terrain_factor</th>\n",
       "      <th>v_ang_min</th>\n",
       "      <th>v_ang_max</th>\n",
       "      <th>sub_network</th>\n",
       "      <th>x_pu</th>\n",
       "      <th>r_pu</th>\n",
       "      <th>g_pu</th>\n",
       "      <th>b_pu</th>\n",
       "      <th>x_pu_eff</th>\n",
       "      <th>r_pu_eff</th>\n",
       "      <th>s_nom_opt</th>\n",
       "      <th>v_nom_class</th>\n",
       "    </tr>\n",
       "    <tr>\n",
       "      <th>Line</th>\n",
       "      <th></th>\n",
       "      <th></th>\n",
       "      <th></th>\n",
       "      <th></th>\n",
       "      <th></th>\n",
       "      <th></th>\n",
       "      <th></th>\n",
       "      <th></th>\n",
       "      <th></th>\n",
       "      <th></th>\n",
       "      <th></th>\n",
       "      <th></th>\n",
       "      <th></th>\n",
       "      <th></th>\n",
       "      <th></th>\n",
       "      <th></th>\n",
       "      <th></th>\n",
       "      <th></th>\n",
       "      <th></th>\n",
       "      <th></th>\n",
       "      <th></th>\n",
       "      <th></th>\n",
       "      <th></th>\n",
       "      <th></th>\n",
       "      <th></th>\n",
       "      <th></th>\n",
       "      <th></th>\n",
       "      <th></th>\n",
       "      <th></th>\n",
       "      <th></th>\n",
       "      <th></th>\n",
       "      <th></th>\n",
       "      <th></th>\n",
       "      <th></th>\n",
       "      <th></th>\n",
       "      <th></th>\n",
       "      <th></th>\n",
       "      <th></th>\n",
       "      <th></th>\n",
       "      <th></th>\n",
       "      <th></th>\n",
       "      <th></th>\n",
       "      <th></th>\n",
       "      <th></th>\n",
       "      <th></th>\n",
       "      <th></th>\n",
       "    </tr>\n",
       "  </thead>\n",
       "  <tbody>\n",
       "    <tr>\n",
       "      <th>0</th>\n",
       "      <td>line</td>\n",
       "      <td>138.0</td>\n",
       "      <td>2.0</td>\n",
       "      <td>60.0</td>\n",
       "      <td>3501</td>\n",
       "      <td>5496</td>\n",
       "      <td>NaN</td>\n",
       "      <td>False</td>\n",
       "      <td>False</td>\n",
       "      <td>False</td>\n",
       "      <td>US</td>\n",
       "      <td>LINESTRING (-98.2396 26.2599, -98.40958 26.160...</td>\n",
       "      <td>MULTIPOINT ((-98.2396 26.2599), (-98.1734 26.1...</td>\n",
       "      <td>POINT (-98.2396 26.2599)</td>\n",
       "      <td>POINT (-98.1734 26.1203)</td>\n",
       "      <td>-98.2396</td>\n",
       "      <td>26.2599</td>\n",
       "      <td>-98.1734</td>\n",
       "      <td>26.1203</td>\n",
       "      <td>AC</td>\n",
       "      <td>243-AL1/39-ST1A 20.0</td>\n",
       "      <td>0.7</td>\n",
       "      <td>308.339685</td>\n",
       "      <td>0.0</td>\n",
       "      <td>0.0</td>\n",
       "      <td>0.0</td>\n",
       "      <td>0.0</td>\n",
       "      <td>0.0</td>\n",
       "      <td>False</td>\n",
       "      <td>0.0</td>\n",
       "      <td>inf</td>\n",
       "      <td>0.0</td>\n",
       "      <td>0</td>\n",
       "      <td>inf</td>\n",
       "      <td>1.0</td>\n",
       "      <td>-inf</td>\n",
       "      <td>inf</td>\n",
       "      <td></td>\n",
       "      <td>0.0</td>\n",
       "      <td>0.0</td>\n",
       "      <td>0.0</td>\n",
       "      <td>0.0</td>\n",
       "      <td>0.0</td>\n",
       "      <td>0.0</td>\n",
       "      <td>0.0</td>\n",
       "      <td>138.0</td>\n",
       "    </tr>\n",
       "    <tr>\n",
       "      <th>1</th>\n",
       "      <td>line</td>\n",
       "      <td>115.0</td>\n",
       "      <td>1.0</td>\n",
       "      <td>60.0</td>\n",
       "      <td>714</td>\n",
       "      <td>10809</td>\n",
       "      <td>NaN</td>\n",
       "      <td>False</td>\n",
       "      <td>False</td>\n",
       "      <td>False</td>\n",
       "      <td>US</td>\n",
       "      <td>LINESTRING (-106.4285 31.7916, -106.3723559999...</td>\n",
       "      <td>MULTIPOINT ((-106.4285 31.7916), (-106.2873 31...</td>\n",
       "      <td>POINT (-106.4285 31.7916)</td>\n",
       "      <td>POINT (-106.2873 31.7802)</td>\n",
       "      <td>-106.4285</td>\n",
       "      <td>31.7916</td>\n",
       "      <td>-106.2873</td>\n",
       "      <td>31.7802</td>\n",
       "      <td>AC</td>\n",
       "      <td>243-AL1/39-ST1A 20.0</td>\n",
       "      <td>0.7</td>\n",
       "      <td>128.474869</td>\n",
       "      <td>0.0</td>\n",
       "      <td>0.0</td>\n",
       "      <td>0.0</td>\n",
       "      <td>0.0</td>\n",
       "      <td>0.0</td>\n",
       "      <td>False</td>\n",
       "      <td>0.0</td>\n",
       "      <td>inf</td>\n",
       "      <td>0.0</td>\n",
       "      <td>0</td>\n",
       "      <td>inf</td>\n",
       "      <td>1.0</td>\n",
       "      <td>-inf</td>\n",
       "      <td>inf</td>\n",
       "      <td></td>\n",
       "      <td>0.0</td>\n",
       "      <td>0.0</td>\n",
       "      <td>0.0</td>\n",
       "      <td>0.0</td>\n",
       "      <td>0.0</td>\n",
       "      <td>0.0</td>\n",
       "      <td>0.0</td>\n",
       "      <td>115.0</td>\n",
       "    </tr>\n",
       "  </tbody>\n",
       "</table>\n",
       "</div>"
      ],
      "text/plain": [
       "     tag_type  v_nom  num_parallel  tag_frequency  bus0   bus1  length  \\\n",
       "Line                                                                     \n",
       "0        line  138.0           2.0           60.0  3501   5496     NaN   \n",
       "1        line  115.0           1.0           60.0   714  10809     NaN   \n",
       "\n",
       "      underground  under_construction     dc country  \\\n",
       "Line                                                   \n",
       "0           False               False  False      US   \n",
       "1           False               False  False      US   \n",
       "\n",
       "                                               geometry  \\\n",
       "Line                                                      \n",
       "0     LINESTRING (-98.2396 26.2599, -98.40958 26.160...   \n",
       "1     LINESTRING (-106.4285 31.7916, -106.3723559999...   \n",
       "\n",
       "                                                 bounds  \\\n",
       "Line                                                      \n",
       "0     MULTIPOINT ((-98.2396 26.2599), (-98.1734 26.1...   \n",
       "1     MULTIPOINT ((-106.4285 31.7916), (-106.2873 31...   \n",
       "\n",
       "                    bus_0_coors                bus_1_coors  bus0_lon  \\\n",
       "Line                                                                   \n",
       "0      POINT (-98.2396 26.2599)   POINT (-98.1734 26.1203)  -98.2396   \n",
       "1     POINT (-106.4285 31.7916)  POINT (-106.2873 31.7802) -106.4285   \n",
       "\n",
       "      bus0_lat  bus1_lon  bus1_lat carrier                  type  s_max_pu  \\\n",
       "Line                                                                         \n",
       "0      26.2599  -98.1734   26.1203      AC  243-AL1/39-ST1A 20.0       0.7   \n",
       "1      31.7916 -106.2873   31.7802      AC  243-AL1/39-ST1A 20.0       0.7   \n",
       "\n",
       "           s_nom  underwater_fraction    x    r    g    b  s_nom_extendable  \\\n",
       "Line                                                                          \n",
       "0     308.339685                  0.0  0.0  0.0  0.0  0.0             False   \n",
       "1     128.474869                  0.0  0.0  0.0  0.0  0.0             False   \n",
       "\n",
       "      s_nom_min  s_nom_max  capital_cost  build_year  lifetime  \\\n",
       "Line                                                             \n",
       "0           0.0        inf           0.0           0       inf   \n",
       "1           0.0        inf           0.0           0       inf   \n",
       "\n",
       "      terrain_factor  v_ang_min  v_ang_max sub_network  x_pu  r_pu  g_pu  \\\n",
       "Line                                                                       \n",
       "0                1.0       -inf        inf               0.0   0.0   0.0   \n",
       "1                1.0       -inf        inf               0.0   0.0   0.0   \n",
       "\n",
       "      b_pu  x_pu_eff  r_pu_eff  s_nom_opt  v_nom_class  \n",
       "Line                                                    \n",
       "0      0.0       0.0       0.0        0.0        138.0  \n",
       "1      0.0       0.0       0.0        0.0        115.0  "
      ]
     },
     "execution_count": 15,
     "metadata": {},
     "output_type": "execute_result"
    }
   ],
   "source": [
    "base_network_pypsa_earth.lines[\"v_nom_class\"] = base_network_pypsa_earth.lines[\"v_nom\"]\n",
    "base_network_pypsa_earth.lines.head(2)"
   ]
  },
  {
   "cell_type": "code",
   "execution_count": 16,
   "id": "55bdd3b4-ffa2-4f81-9ec8-3b77106dd596",
   "metadata": {},
   "outputs": [],
   "source": [
    "v_nom_class_dict_pypsa_earth = {\n",
    "    55.: 'Under 100',\n",
    "    57.1: 'Under 100', \n",
    "    60.: 'Under 100',\n",
    "    66.: 'Under 100',  \n",
    "    69.: 'Under 100',  \n",
    "    70.: 'Under 100',  \n",
    "    88.: 'Under 100', \n",
    "    92.: 'Under 100', \n",
    "    100.: \"100-161\",\n",
    "    115.: \"100-161\", \n",
    "    120.: \"100-161\",  \n",
    "    125.: \"100-161\",  \n",
    "    138.: \"100-161\",  \n",
    "    160.: \"100-161\",  \n",
    "    161.: \"100-161\",\n",
    "    220.: \"220-287\",\n",
    "    230.: \"220-287\",\n",
    "    287.: \"220-287\",\n",
    "    345.: \"345\",\n",
    "    500.: \"500\",\n",
    "    765.: \"735 And Above\"\n",
    "}"
   ]
  },
  {
   "cell_type": "code",
   "execution_count": 17,
   "id": "944286ec-0726-4ed7-9aa4-e126681aeb2f",
   "metadata": {},
   "outputs": [
    {
     "data": {
      "text/html": [
       "<div>\n",
       "<style scoped>\n",
       "    .dataframe tbody tr th:only-of-type {\n",
       "        vertical-align: middle;\n",
       "    }\n",
       "\n",
       "    .dataframe tbody tr th {\n",
       "        vertical-align: top;\n",
       "    }\n",
       "\n",
       "    .dataframe thead th {\n",
       "        text-align: right;\n",
       "    }\n",
       "</style>\n",
       "<table border=\"1\" class=\"dataframe\">\n",
       "  <thead>\n",
       "    <tr style=\"text-align: right;\">\n",
       "      <th></th>\n",
       "      <th>tag_type</th>\n",
       "      <th>v_nom</th>\n",
       "      <th>num_parallel</th>\n",
       "      <th>tag_frequency</th>\n",
       "      <th>bus0</th>\n",
       "      <th>bus1</th>\n",
       "      <th>length</th>\n",
       "      <th>underground</th>\n",
       "      <th>under_construction</th>\n",
       "      <th>dc</th>\n",
       "      <th>country</th>\n",
       "      <th>geometry</th>\n",
       "      <th>bounds</th>\n",
       "      <th>bus_0_coors</th>\n",
       "      <th>bus_1_coors</th>\n",
       "      <th>bus0_lon</th>\n",
       "      <th>bus0_lat</th>\n",
       "      <th>bus1_lon</th>\n",
       "      <th>bus1_lat</th>\n",
       "      <th>carrier</th>\n",
       "      <th>type</th>\n",
       "      <th>s_max_pu</th>\n",
       "      <th>s_nom</th>\n",
       "      <th>underwater_fraction</th>\n",
       "      <th>x</th>\n",
       "      <th>r</th>\n",
       "      <th>g</th>\n",
       "      <th>b</th>\n",
       "      <th>s_nom_extendable</th>\n",
       "      <th>s_nom_min</th>\n",
       "      <th>s_nom_max</th>\n",
       "      <th>capital_cost</th>\n",
       "      <th>build_year</th>\n",
       "      <th>lifetime</th>\n",
       "      <th>terrain_factor</th>\n",
       "      <th>v_ang_min</th>\n",
       "      <th>v_ang_max</th>\n",
       "      <th>sub_network</th>\n",
       "      <th>x_pu</th>\n",
       "      <th>r_pu</th>\n",
       "      <th>g_pu</th>\n",
       "      <th>b_pu</th>\n",
       "      <th>x_pu_eff</th>\n",
       "      <th>r_pu_eff</th>\n",
       "      <th>s_nom_opt</th>\n",
       "      <th>v_nom_class</th>\n",
       "    </tr>\n",
       "    <tr>\n",
       "      <th>Line</th>\n",
       "      <th></th>\n",
       "      <th></th>\n",
       "      <th></th>\n",
       "      <th></th>\n",
       "      <th></th>\n",
       "      <th></th>\n",
       "      <th></th>\n",
       "      <th></th>\n",
       "      <th></th>\n",
       "      <th></th>\n",
       "      <th></th>\n",
       "      <th></th>\n",
       "      <th></th>\n",
       "      <th></th>\n",
       "      <th></th>\n",
       "      <th></th>\n",
       "      <th></th>\n",
       "      <th></th>\n",
       "      <th></th>\n",
       "      <th></th>\n",
       "      <th></th>\n",
       "      <th></th>\n",
       "      <th></th>\n",
       "      <th></th>\n",
       "      <th></th>\n",
       "      <th></th>\n",
       "      <th></th>\n",
       "      <th></th>\n",
       "      <th></th>\n",
       "      <th></th>\n",
       "      <th></th>\n",
       "      <th></th>\n",
       "      <th></th>\n",
       "      <th></th>\n",
       "      <th></th>\n",
       "      <th></th>\n",
       "      <th></th>\n",
       "      <th></th>\n",
       "      <th></th>\n",
       "      <th></th>\n",
       "      <th></th>\n",
       "      <th></th>\n",
       "      <th></th>\n",
       "      <th></th>\n",
       "      <th></th>\n",
       "      <th></th>\n",
       "    </tr>\n",
       "  </thead>\n",
       "  <tbody>\n",
       "    <tr>\n",
       "      <th>0</th>\n",
       "      <td>line</td>\n",
       "      <td>138.0</td>\n",
       "      <td>2.0</td>\n",
       "      <td>60.0</td>\n",
       "      <td>3501</td>\n",
       "      <td>5496</td>\n",
       "      <td>NaN</td>\n",
       "      <td>False</td>\n",
       "      <td>False</td>\n",
       "      <td>False</td>\n",
       "      <td>US</td>\n",
       "      <td>LINESTRING (-98.2396 26.2599, -98.40958 26.160...</td>\n",
       "      <td>MULTIPOINT ((-98.2396 26.2599), (-98.1734 26.1...</td>\n",
       "      <td>POINT (-98.2396 26.2599)</td>\n",
       "      <td>POINT (-98.1734 26.1203)</td>\n",
       "      <td>-98.2396</td>\n",
       "      <td>26.2599</td>\n",
       "      <td>-98.1734</td>\n",
       "      <td>26.1203</td>\n",
       "      <td>AC</td>\n",
       "      <td>243-AL1/39-ST1A 20.0</td>\n",
       "      <td>0.7</td>\n",
       "      <td>308.339685</td>\n",
       "      <td>0.0</td>\n",
       "      <td>0.0</td>\n",
       "      <td>0.0</td>\n",
       "      <td>0.0</td>\n",
       "      <td>0.0</td>\n",
       "      <td>False</td>\n",
       "      <td>0.0</td>\n",
       "      <td>inf</td>\n",
       "      <td>0.0</td>\n",
       "      <td>0</td>\n",
       "      <td>inf</td>\n",
       "      <td>1.0</td>\n",
       "      <td>-inf</td>\n",
       "      <td>inf</td>\n",
       "      <td></td>\n",
       "      <td>0.0</td>\n",
       "      <td>0.0</td>\n",
       "      <td>0.0</td>\n",
       "      <td>0.0</td>\n",
       "      <td>0.0</td>\n",
       "      <td>0.0</td>\n",
       "      <td>0.0</td>\n",
       "      <td>100-161</td>\n",
       "    </tr>\n",
       "    <tr>\n",
       "      <th>1</th>\n",
       "      <td>line</td>\n",
       "      <td>115.0</td>\n",
       "      <td>1.0</td>\n",
       "      <td>60.0</td>\n",
       "      <td>714</td>\n",
       "      <td>10809</td>\n",
       "      <td>NaN</td>\n",
       "      <td>False</td>\n",
       "      <td>False</td>\n",
       "      <td>False</td>\n",
       "      <td>US</td>\n",
       "      <td>LINESTRING (-106.4285 31.7916, -106.3723559999...</td>\n",
       "      <td>MULTIPOINT ((-106.4285 31.7916), (-106.2873 31...</td>\n",
       "      <td>POINT (-106.4285 31.7916)</td>\n",
       "      <td>POINT (-106.2873 31.7802)</td>\n",
       "      <td>-106.4285</td>\n",
       "      <td>31.7916</td>\n",
       "      <td>-106.2873</td>\n",
       "      <td>31.7802</td>\n",
       "      <td>AC</td>\n",
       "      <td>243-AL1/39-ST1A 20.0</td>\n",
       "      <td>0.7</td>\n",
       "      <td>128.474869</td>\n",
       "      <td>0.0</td>\n",
       "      <td>0.0</td>\n",
       "      <td>0.0</td>\n",
       "      <td>0.0</td>\n",
       "      <td>0.0</td>\n",
       "      <td>False</td>\n",
       "      <td>0.0</td>\n",
       "      <td>inf</td>\n",
       "      <td>0.0</td>\n",
       "      <td>0</td>\n",
       "      <td>inf</td>\n",
       "      <td>1.0</td>\n",
       "      <td>-inf</td>\n",
       "      <td>inf</td>\n",
       "      <td></td>\n",
       "      <td>0.0</td>\n",
       "      <td>0.0</td>\n",
       "      <td>0.0</td>\n",
       "      <td>0.0</td>\n",
       "      <td>0.0</td>\n",
       "      <td>0.0</td>\n",
       "      <td>0.0</td>\n",
       "      <td>100-161</td>\n",
       "    </tr>\n",
       "  </tbody>\n",
       "</table>\n",
       "</div>"
      ],
      "text/plain": [
       "     tag_type  v_nom  num_parallel  tag_frequency  bus0   bus1  length  \\\n",
       "Line                                                                     \n",
       "0        line  138.0           2.0           60.0  3501   5496     NaN   \n",
       "1        line  115.0           1.0           60.0   714  10809     NaN   \n",
       "\n",
       "      underground  under_construction     dc country  \\\n",
       "Line                                                   \n",
       "0           False               False  False      US   \n",
       "1           False               False  False      US   \n",
       "\n",
       "                                               geometry  \\\n",
       "Line                                                      \n",
       "0     LINESTRING (-98.2396 26.2599, -98.40958 26.160...   \n",
       "1     LINESTRING (-106.4285 31.7916, -106.3723559999...   \n",
       "\n",
       "                                                 bounds  \\\n",
       "Line                                                      \n",
       "0     MULTIPOINT ((-98.2396 26.2599), (-98.1734 26.1...   \n",
       "1     MULTIPOINT ((-106.4285 31.7916), (-106.2873 31...   \n",
       "\n",
       "                    bus_0_coors                bus_1_coors  bus0_lon  \\\n",
       "Line                                                                   \n",
       "0      POINT (-98.2396 26.2599)   POINT (-98.1734 26.1203)  -98.2396   \n",
       "1     POINT (-106.4285 31.7916)  POINT (-106.2873 31.7802) -106.4285   \n",
       "\n",
       "      bus0_lat  bus1_lon  bus1_lat carrier                  type  s_max_pu  \\\n",
       "Line                                                                         \n",
       "0      26.2599  -98.1734   26.1203      AC  243-AL1/39-ST1A 20.0       0.7   \n",
       "1      31.7916 -106.2873   31.7802      AC  243-AL1/39-ST1A 20.0       0.7   \n",
       "\n",
       "           s_nom  underwater_fraction    x    r    g    b  s_nom_extendable  \\\n",
       "Line                                                                          \n",
       "0     308.339685                  0.0  0.0  0.0  0.0  0.0             False   \n",
       "1     128.474869                  0.0  0.0  0.0  0.0  0.0             False   \n",
       "\n",
       "      s_nom_min  s_nom_max  capital_cost  build_year  lifetime  \\\n",
       "Line                                                             \n",
       "0           0.0        inf           0.0           0       inf   \n",
       "1           0.0        inf           0.0           0       inf   \n",
       "\n",
       "      terrain_factor  v_ang_min  v_ang_max sub_network  x_pu  r_pu  g_pu  \\\n",
       "Line                                                                       \n",
       "0                1.0       -inf        inf               0.0   0.0   0.0   \n",
       "1                1.0       -inf        inf               0.0   0.0   0.0   \n",
       "\n",
       "      b_pu  x_pu_eff  r_pu_eff  s_nom_opt v_nom_class  \n",
       "Line                                                   \n",
       "0      0.0       0.0       0.0        0.0     100-161  \n",
       "1      0.0       0.0       0.0        0.0     100-161  "
      ]
     },
     "execution_count": 17,
     "metadata": {},
     "output_type": "execute_result"
    }
   ],
   "source": [
    "base_network_pypsa_earth.lines[\"v_nom_class\"] = base_network_pypsa_earth.lines[\"v_nom_class\"].replace(v_nom_class_dict_pypsa_earth)\n",
    "base_network_pypsa_earth.lines.head(2)"
   ]
  },
  {
   "cell_type": "markdown",
   "id": "89c1d60c-3a10-4d89-822f-d66b71e77270",
   "metadata": {},
   "source": [
    "### Count plot"
   ]
  },
  {
   "cell_type": "code",
   "execution_count": 18,
   "id": "01938760-ed18-43da-bbb4-bcffc1715b8a",
   "metadata": {},
   "outputs": [
    {
     "data": {
      "text/plain": [
       "[Text(0.5, 1.0, 'PyPSA-Earth base network')]"
      ]
     },
     "execution_count": 18,
     "metadata": {},
     "output_type": "execute_result"
    },
    {
     "data": {
      "image/png": "[encoded data removed]",
      "text/plain": [
       "<Figure size 640x480 with 1 Axes>"
      ]
     },
     "metadata": {},
     "output_type": "display_data"
    }
   ],
   "source": [
    "sbn.countplot(data=base_network_pypsa_earth.lines, x=base_network_pypsa_earth.lines[\"v_nom_class\"]).set(title='PyPSA-Earth base network')"
   ]
  },
  {
   "cell_type": "code",
   "execution_count": 19,
   "id": "ef85fdaf-7323-4042-a77c-7af1e4e7921e",
   "metadata": {},
   "outputs": [
    {
     "data": {
      "text/plain": [
       "[Text(0.5, 1.0, 'EIA network topology')]"
      ]
     },
     "execution_count": 19,
     "metadata": {},
     "output_type": "execute_result"
    },
    {
     "data": {
      "image/png": "[encoded data removed]",
      "text/plain": [
       "<Figure size 640x480 with 1 Axes>"
      ]
     },
     "metadata": {},
     "output_type": "display_data"
    }
   ],
   "source": [
    "sbn.countplot(data=eia_base_network, x=eia_base_network[\"VOLT_CLASS\"], color=\"orange\").set(title='EIA network topology')"
   ]
  },
  {
   "cell_type": "markdown",
   "id": "19910a10-4cd3-4a7d-8449-1c22f8228bc5",
   "metadata": {},
   "source": [
    "### Maps"
   ]
  },
  {
   "cell_type": "code",
   "execution_count": 20,
   "id": "b41b40d0-d338-4962-8d71-d6941a02a19c",
   "metadata": {},
   "outputs": [],
   "source": [
    "# Available voltage classes are:\n",
    "# Under 100\n",
    "# 100-161\n",
    "# 220-287\n",
    "# 345\n",
    "# 500\n",
    "# 735 And Above\n",
    "\n",
    "selected_voltage_class_earth = \"735 And Above\""
   ]
  },
  {
   "cell_type": "code",
   "execution_count": 21,
   "id": "324f87ce-860d-4f65-b221-e7bd40ddb4f4",
   "metadata": {},
   "outputs": [
    {
     "name": "stderr",
     "output_type": "stream",
     "text": [
      "/opt/anaconda3/envs/pypsa-earth/lib/python3.10/site-packages/geopandas/geodataframe.py:1525: SettingWithCopyWarning:\n",
      "\n",
      "\n",
      "A value is trying to be set on a copy of a slice from a DataFrame.\n",
      "Try using .loc[row_indexer,col_indexer] = value instead\n",
      "\n",
      "See the caveats in the documentation: https://pandas.pydata.org/pandas-docs/stable/user_guide/indexing.html#returning-a-view-versus-a-copy\n",
      "\n"
     ]
    }
   ],
   "source": [
    "base_network_pe_volt_class = base_network_pypsa_earth.lines.loc[base_network_pypsa_earth.lines[\"v_nom_class\"] == selected_voltage_class_earth]\n",
    "base_network_pe_volt_class = gpd.GeoDataFrame(base_network_pe_volt_class, geometry=gpd.GeoSeries.from_wkt(base_network_pe_volt_class.geometry), crs=\"EPSG:4326\")\n",
    "base_network_pe_volt_class[\"union_geo\"] = 0\n",
    "base_network_pe_volt_class = base_network_pe_volt_class.dissolve(by=\"union_geo\")\n",
    "base_network_pe_volt_class = base_network_pe_volt_class.to_crs(3857)\n",
    "\n",
    "eia_base_network_volt_class = eia_base_network.loc[eia_base_network[\"VOLT_CLASS\"]==selected_voltage_class_earth]\n",
    "eia_base_network_volt_class[\"union_geo\"] = 0\n",
    "eia_base_network_volt_class = eia_base_network_volt_class.dissolve(by=\"union_geo\")\n",
    "eia_base_network_volt_class = eia_base_network_volt_class.to_crs(3857)"
   ]
  },
  {
   "cell_type": "code",
   "execution_count": 28,
   "id": "1467e2d4-7a5d-4da6-81be-6e545e414218",
   "metadata": {},
   "outputs": [
    {
     "data": {
      "text/plain": [
       "union_geo\n",
       "0    MULTILINESTRING ((-9095537.106 4426708.585, -9...\n",
       "Name: geometry, dtype: geometry"
      ]
     },
     "execution_count": 28,
     "metadata": {},
     "output_type": "execute_result"
    }
   ],
   "source": [
    "base_network_pe_volt_class.geometry"
   ]
  },
  {
   "cell_type": "code",
   "execution_count": 58,
   "id": "a4089fab-23a9-4afc-ab86-f6f6a95f62b5",
   "metadata": {},
   "outputs": [
    {
     "name": "stderr",
     "output_type": "stream",
     "text": [
      "/opt/anaconda3/envs/pypsa-earth/lib/python3.10/site-packages/shapely/set_operations.py:131: RuntimeWarning:\n",
      "\n",
      "invalid value encountered in intersection\n",
      "\n"
     ]
    },
    {
     "data": {
      "text/plain": [
       "<AxesSubplot:>"
      ]
     },
     "execution_count": 58,
     "metadata": {},
     "output_type": "execute_result"
    },
    {
     "data": {
      "image/png": "[encoded data removed]",
      "text/plain": [
       "<Figure size 2000x400 with 1 Axes>"
      ]
     },
     "metadata": {},
     "output_type": "display_data"
    }
   ],
   "source": [
    "intersection_geometries = base_network_pe_volt_class.intersection(eia_base_network_volt_class)\n",
    "fig, ax = plt.subplots(figsize=(20, 4))\n",
    "ax.set_axis_off()\n",
    "\n",
    "intersection_geometries.plot(ax=ax, color=\"black\", markersize=5)\n",
    "base_network_pe_volt_class.plot(ax=ax, color=\"blue\", kind=\"geo\")\n",
    "eia_base_network_volt_class.plot(ax=ax, color=\"orange\", kind=\"geo\")"
   ]
  },
  {
   "cell_type": "code",
   "execution_count": 23,
   "id": "fb8967fb-b17f-4c39-8a0f-423eb4e834fd",
   "metadata": {},
   "outputs": [
    {
     "name": "stdout",
     "output_type": "stream",
     "text": [
      "Requirement already satisfied: kaleido in /opt/anaconda3/envs/pypsa-earth/lib/python3.10/site-packages (0.2.1)\n"
     ]
    }
   ],
   "source": [
    "!pip install -U kaleido"
   ]
  },
  {
   "cell_type": "code",
   "execution_count": 36,
   "id": "70f7a268-7b4b-44d0-8d01-35c0df758a4a",
   "metadata": {},
   "outputs": [],
   "source": [
    "import plotly.express as px\n",
    "import shapely\n",
    "import kaleido\n",
    "\n",
    "lats = []\n",
    "lons = []\n",
    "\n",
    "for feature in zip(base_network_pe_volt_class.geometry):\n",
    "    if isinstance(feature, shapely.geometry.linestring.LineString):\n",
    "        linestrings = [feature]\n",
    "    elif isinstance(feature, shapely.geometry.multilinestring.MultiLineString):\n",
    "        linestrings = feature.geoms\n",
    "    else:\n",
    "        continue\n",
    "    for linestring in linestrings:\n",
    "        x, y = linestring.xy\n",
    "        lats = np.append(lats, y)\n",
    "        lons = np.append(lons, x)\n",
    "\n",
    "fig = px.line_map(lat=lats, lon=lons)\n",
    "fig.write_image(\"plotly_test.png\")"
   ]
  },
  {
   "cell_type": "code",
   "execution_count": 25,
   "id": "9cd4ac85-703f-44b0-8f0a-d8afeb79928f",
   "metadata": {},
   "outputs": [
    {
     "ename": "AttributeError",
     "evalue": "'Figure' object has no attribute 'savefig'",
     "output_type": "error",
     "traceback": [
      "\u001b[0;31m---------------------------------------------------------------------------\u001b[0m",
      "\u001b[0;31mAttributeError\u001b[0m                            Traceback (most recent call last)",
      "Cell \u001b[0;32mIn[25], line 1\u001b[0m\n\u001b[0;32m----> 1\u001b[0m \u001b[43mfig\u001b[49m\u001b[38;5;241;43m.\u001b[39;49m\u001b[43msavefig\u001b[49m(\u001b[38;5;124m\"\u001b[39m\u001b[38;5;124mnetwork_comparison_for_voltage_class_\u001b[39m\u001b[38;5;132;01m{}\u001b[39;00m\u001b[38;5;124m.png\u001b[39m\u001b[38;5;124m\"\u001b[39m\u001b[38;5;241m.\u001b[39mformat(\u001b[38;5;28mstr\u001b[39m(selected_voltage_class_earth)))\n",
      "\u001b[0;31mAttributeError\u001b[0m: 'Figure' object has no attribute 'savefig'"
     ]
    }
   ],
   "source": [
    "fig.savefig(\"network_comparison_for_voltage_class_{}.png\".format(str(selected_voltage_class_earth)))"
   ]
  },
  {
   "cell_type": "code",
   "execution_count": null,
   "id": "c852fecc-7eef-41c4-a1eb-0cefcb3bde53",
   "metadata": {},
   "outputs": [],
   "source": [
    "eia_base_network_765[\"union_geo\"] = 0\n",
    "eia_base_network_new = eia_base_network_765.dissolve(by=\"union_geo\")\n",
    "eia_base_network_new"
   ]
  },
  {
   "cell_type": "code",
   "execution_count": null,
   "id": "e5124786-2e81-40fe-b269-8ffb88797f0f",
   "metadata": {},
   "outputs": [],
   "source": [
    "base_network_pypsa_earth.lines[\"line_width\"] = 0.0\n",
    "base_network_pypsa_earth.lines.loc[base_network_pypsa_earth.lines[\"v_nom_class\"] == selected_voltage_class_earth, \"line_width\"] = 1.0\n",
    "\n",
    "fig, (ax1, ax2) = plt.subplots(nrows=1, ncols=2, sharey=True, subplot_kw={\"projection\":ccrs.PlateCarree(), \"projection\":ccrs.PlateCarree()}, figsize=(20, 4))\n",
    "base_network_pypsa_earth.plot(line_widths = base_network_pypsa_earth.lines[\"line_width\"], bus_sizes = 0, line_colors = \"blue\", ax=ax1)\n",
    "base_network_pypsa_earth.plot(line_widths = base_network_pypsa_earth.lines[\"line_width\"], bus_sizes = 0, line_colors = \"white\", ax=ax2)\n",
    "eia_base_network.loc[eia_base_network[\"VOLT_CLASS\"]==selected_voltage_class_earth].plot(ax=ax2, color=\"orange\")\n",
    "fig.suptitle(\"Comparison for voltage class: {}\".format(selected_voltage_class_earth))\n",
    "ax1.set_aspect('equal')\n",
    "ax1.title.set_text(\"PyPSA-Earth base network\")\n",
    "ax2.set_aspect(\"equal\")\n",
    "ax2.title.set_text(\"EIA network\")"
   ]
  },
  {
   "cell_type": "markdown",
   "id": "1c0780b6-00c1-45a8-9f8c-44af8a36f147",
   "metadata": {},
   "source": [
    "# PyPSA-USA - EIA comparison"
   ]
  },
  {
   "cell_type": "markdown",
   "id": "52fa0575-26e3-4296-9580-4a0b3d7f5618",
   "metadata": {},
   "source": [
    "Add the voltage class to the PyPSA-USA base network"
   ]
  },
  {
   "cell_type": "code",
   "execution_count": null,
   "id": "6e966a22-db73-4585-bb8a-d9661627ccd5",
   "metadata": {},
   "outputs": [],
   "source": [
    "base_network_pypsa_usa.lines[\"v_nom_class\"] = base_network_pypsa_usa.lines[\"v_nom\"]\n",
    "base_network_pypsa_usa.lines.head(2)"
   ]
  },
  {
   "cell_type": "code",
   "execution_count": null,
   "id": "bfab248d-5fe5-4838-8481-636a7396aefa",
   "metadata": {},
   "outputs": [],
   "source": [
    "base_network_pypsa_usa.lines.v_nom.unique()"
   ]
  },
  {
   "cell_type": "code",
   "execution_count": null,
   "id": "93f4ac4d-7425-4373-897d-bff930054b62",
   "metadata": {},
   "outputs": [],
   "source": [
    "v_nom_class_dict_pypsa_usa = {\n",
    "    69.: 'Under 100',\n",
    "    100.: \"100-161\",\n",
    "    138.: \"100-161\", \n",
    "    115.: \"100-161\", \n",
    "    161.: \"100-161\",\n",
    "    230.: \"220-287\",\n",
    "    345.: \"345\",\n",
    "    500.: \"500\",\n",
    "    765.: \"735 And Above\"\n",
    "}"
   ]
  },
  {
   "cell_type": "code",
   "execution_count": null,
   "id": "09251057-c7d2-4d37-9ccc-3b57a9228d3a",
   "metadata": {},
   "outputs": [],
   "source": [
    "base_network_pypsa_usa.lines[\"v_nom_class\"] = base_network_pypsa_usa.lines[\"v_nom_class\"].replace(v_nom_class_dict_pypsa_usa)"
   ]
  },
  {
   "cell_type": "markdown",
   "id": "6136df80-3c28-4012-ad20-1305a1bfee6f",
   "metadata": {},
   "source": [
    "### Maps"
   ]
  },
  {
   "cell_type": "code",
   "execution_count": null,
   "id": "d6ac5655-b913-4163-81cb-8c52bd29f99c",
   "metadata": {},
   "outputs": [],
   "source": [
    "# Available voltage classes are:\n",
    "# Under 100\n",
    "# 100-161\n",
    "# 220-287\n",
    "# 345\n",
    "# 500\n",
    "# 735 And Above\n",
    "\n",
    "selected_voltage_class_usa = \"735 And Above\""
   ]
  },
  {
   "cell_type": "code",
   "execution_count": null,
   "id": "2bc49844-be2f-484f-9257-e5babe261f19",
   "metadata": {},
   "outputs": [],
   "source": [
    "base_network_pypsa_usa.lines[\"line_width\"] = 0.0\n",
    "base_network_pypsa_usa.lines.loc[base_network_pypsa_usa.lines[\"v_nom_class\"] == selected_voltage_class_usa, \"line_width\"] = 1.0\n",
    "\n",
    "fig, (ax1, ax2) = plt.subplots(nrows=1, ncols=2, sharey=True, subplot_kw={\"projection\":ccrs.PlateCarree(), \"projection\":ccrs.PlateCarree()}, figsize=(20, 4))\n",
    "base_network_pypsa_usa.plot(line_widths = base_network_pypsa_usa.lines[\"line_width\"], bus_sizes = 0, line_colors = \"blue\", ax=ax1)\n",
    "base_network_pypsa_usa.plot(line_widths = base_network_pypsa_usa.lines[\"line_width\"], bus_sizes = 0, line_colors = \"white\", ax=ax2)\n",
    "eia_base_network.loc[eia_base_network[\"VOLT_CLASS\"]==selected_voltage_class_usa].plot(ax=ax2, color=\"orange\")\n",
    "fig.suptitle(\"Comparison for voltage class: {}\".format(selected_voltage_class_usa))\n",
    "ax1.set_aspect('equal')\n",
    "ax1.title.set_text(\"PyPSA-USA base network\")\n",
    "ax2.set_aspect(\"equal\")\n",
    "ax2.title.set_text(\"EIA network\")"
   ]
  },
  {
   "cell_type": "code",
   "execution_count": null,
   "id": "fccbfa03-0ebb-40d7-aed7-7fdd9dacc243",
   "metadata": {},
   "outputs": [],
   "source": [
    "fig.savefig(\"network_comparison_pusa_for_voltage_class_{}.png\".format(str(selected_voltage_class_usa)))"
   ]
  },
  {
   "cell_type": "markdown",
   "id": "a60a2efe-4463-4f83-9ad0-5d5cd571e417",
   "metadata": {},
   "source": [
    "## Compare crossings"
   ]
  },
  {
   "cell_type": "code",
   "execution_count": null,
   "id": "5ff69ac8-7622-4f36-9b41-d4f768f9caae",
   "metadata": {},
   "outputs": [],
   "source": [
    "gadm_usa_json_path_level_1 = \"/Users/fabriziofinozzi/Desktop/OpenEnergyTransition/repo/geothermal-modelling/analysis/data/gadm41_USA_1.json\"\n",
    "gadm_gdp_usa_level_1 = gpd.read_file(gadm_usa_json_path_level_1)"
   ]
  },
  {
   "cell_type": "code",
   "execution_count": null,
   "id": "930ebca6-3ceb-4f31-8e2f-4cb803c5ac41",
   "metadata": {},
   "outputs": [],
   "source": [
    "gadm_gdp_usa_level_1.head(2)"
   ]
  },
  {
   "cell_type": "markdown",
   "id": "db10ebc2-5fde-46dc-aa88-5a6f517987b2",
   "metadata": {},
   "source": [
    "Apply a spatial join between the reference transmission lines topology from EIA and the GADM shapes (level 1)"
   ]
  },
  {
   "cell_type": "code",
   "execution_count": null,
   "id": "753eece7-367d-4bb5-bd74-738567a0bbd0",
   "metadata": {},
   "outputs": [],
   "source": [
    "spatial_join_gadm_eia = eia_base_network.sjoin(gadm_gdp_usa_level_1, how=\"inner\")\n",
    "spatial_join_gadm_eia.head(2)"
   ]
  },
  {
   "cell_type": "code",
   "execution_count": null,
   "id": "5e1da14c-d140-4ec0-adff-47f78d5a52e8",
   "metadata": {},
   "outputs": [],
   "source": [
    "spatial_join_gadm_eia[[\"ID\", \"GID_1\", \"VOLTAGE\", \"VOLT_CLASS\", \"ISO_1\", \"NAME_1\"]].head(2)"
   ]
  },
  {
   "cell_type": "markdown",
   "id": "625f29c9-0104-49f8-905d-3b220d88f123",
   "metadata": {},
   "source": [
    "Apply a spatial join between the transmission lines topology from the PyPSA-Earth base network and the GADM shapes (level 1)"
   ]
  },
  {
   "cell_type": "code",
   "execution_count": null,
   "id": "40ec5e25-de0e-4dac-832e-98a703751b0d",
   "metadata": {},
   "outputs": [],
   "source": [
    "base_network_pypsa_earth_geopandas = gpd.GeoDataFrame(base_network_pypsa_earth.lines, geometry=gpd.GeoSeries.from_wkt(base_network_pypsa_earth.lines.geometry), crs=\"EPSG:4326\")"
   ]
  },
  {
   "cell_type": "code",
   "execution_count": null,
   "id": "9ec64d85-b83f-4e38-b2bc-3f754d362653",
   "metadata": {},
   "outputs": [],
   "source": [
    "spatial_join_gadm_pypsa_earth = base_network_pypsa_earth_geopandas.sjoin(gadm_gdp_usa_level_1, how=\"inner\")\n",
    "spatial_join_gadm_pypsa_earth.head(5)"
   ]
  },
  {
   "cell_type": "code",
   "execution_count": null,
   "id": "9484b675-e08f-4621-961d-e0e65d5eafab",
   "metadata": {},
   "outputs": [],
   "source": [
    "spatial_join_gadm_pypsa_earth[[\"GID_1\", \"v_nom\", \"v_nom_class\", \"type\", \"num_parallel\", \"ISO_1\", \"NAME_1\"]].head(2)"
   ]
  },
  {
   "cell_type": "code",
   "execution_count": null,
   "id": "bbf99096-757d-40dc-b3a0-f534759dd048",
   "metadata": {},
   "outputs": [],
   "source": []
  }
 ],
 "metadata": {
  "kernelspec": {
   "display_name": "Python 3 (ipykernel)",
   "language": "python",
   "name": "python3"
  },
  "language_info": {
   "codemirror_mode": {
    "name": "ipython",
    "version": 3
   },
   "file_extension": ".py",
   "mimetype": "text/x-python",
   "name": "python",
   "nbconvert_exporter": "python",
   "pygments_lexer": "ipython3",
   "version": "3.10.14"
  }
 },
 "nbformat": 4,
 "nbformat_minor": 5
}
